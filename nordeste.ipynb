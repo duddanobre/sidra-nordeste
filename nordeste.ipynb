{
  "cells": [
    {
      "cell_type": "markdown",
      "metadata": {
        "id": "Oh4RSgNJP8g0"
      },
      "source": [
        "**Pergunta-Guia: O Brasil é um país desigual?**"
      ]
    },
    {
      "cell_type": "markdown",
      "metadata": {
        "id": "Mj5O-fJAsLhT"
      },
      "source": [
        "\n",
        "\n",
        "> Projeto do primeiro módulo da disciplina de estatística para ciência de dados. Composto pela equipe: Ana Caroline, Carlos Eduardo, Claudio Cruz, Julio Sousa e Maria Eduarda.\n",
        "Nesse projeto analisamos e cruzamos os dados dos estados e munícipios do Nordeste.\n",
        "\n"
      ]
    },
    {
      "cell_type": "markdown",
      "metadata": {
        "id": "hOJuElBJqxn8"
      },
      "source": [
        "# Importação e cruzamento dos dados"
      ]
    },
    {
      "cell_type": "code",
      "execution_count": null,
      "metadata": {
        "colab": {
          "base_uri": "https://localhost:8080/"
        },
        "collapsed": true,
        "id": "RZxgk2rh5BcW",
        "outputId": "b1002857-9ce8-44f8-e0a7-e8d149e5eb93"
      },
      "outputs": [],
      "source": [
        "import pandas as pd\n",
        "\n",
        "!gdown --id 1GQVxYHY9ouZvh_Jkbzt3sjnWHslxGqnX\n",
        "!gdown --id 1OLg85S7vAr4MQomc_wcaQhRo6SLciSu0\n",
        "!gdown --id 1G3Ll5LsIhsvpodjnKg6JE0KXbc_D-BSP\n"
      ]
    },
    {
      "cell_type": "code",
      "execution_count": null,
      "metadata": {
        "collapsed": true,
        "id": "sml-63aBOA84"
      },
      "outputs": [],
      "source": [
        "df_pib = pd.read_csv(\"tabela5938_2020.csv.xz\")\n",
        "df_pop = pd.read_csv(\"tabela6579_2020.csv.xz\")\n",
        "df_dtb = pd.read_csv(\"RELATORIO_DTB_BRASIL_MUNICIPIO.csv\")"
      ]
    },
    {
      "cell_type": "code",
      "execution_count": null,
      "metadata": {
        "colab": {
          "base_uri": "https://localhost:8080/",
          "height": 458
        },
        "collapsed": true,
        "id": "1jr3pIrhyLWI",
        "outputId": "12c94d84-a838-42c8-f260-87253d03bd5f"
      },
      "outputs": [],
      "source": [
        "df_pib"
      ]
    },
    {
      "cell_type": "code",
      "execution_count": null,
      "metadata": {
        "colab": {
          "base_uri": "https://localhost:8080/",
          "height": 423
        },
        "collapsed": true,
        "id": "uVNAQxmzyNs1",
        "outputId": "e9df21d7-788e-401e-8956-3ee62953b0c7"
      },
      "outputs": [],
      "source": [
        "df_pop"
      ]
    },
    {
      "cell_type": "code",
      "execution_count": null,
      "metadata": {
        "colab": {
          "base_uri": "https://localhost:8080/",
          "height": 597
        },
        "collapsed": true,
        "id": "Pzh5jSmUyb57",
        "outputId": "9d07e34c-60d3-4d68-8377-a92bf13dd960"
      },
      "outputs": [],
      "source": [
        "df_dtb"
      ]
    },
    {
      "cell_type": "code",
      "execution_count": null,
      "metadata": {
        "colab": {
          "base_uri": "https://localhost:8080/",
          "height": 458
        },
        "collapsed": true,
        "id": "LS4VWiDPx-a1",
        "outputId": "a1b85597-b497-4e43-9f76-cb06d179e460"
      },
      "outputs": [],
      "source": [
        "df_aux1 = pd.merge(df_pib,df_pop,how='outer',left_on='Cód.',right_on='Cód.')\n",
        "df_aux1 = df_aux1.drop(columns=['Município_y'])\n",
        "df_aux1"
      ]
    },
    {
      "cell_type": "code",
      "execution_count": null,
      "metadata": {
        "colab": {
          "base_uri": "https://localhost:8080/",
          "height": 669
        },
        "id": "SmNmtCRuym6D",
        "outputId": "20e607ec-3f02-4896-ecb3-649955ea9fff"
      },
      "outputs": [],
      "source": [
        "df_geral = pd.merge(df_aux1,df_dtb,how='left',left_on='Cód.',right_on='Código Município Completo')\n",
        "df_geral"
      ]
    },
    {
      "cell_type": "code",
      "execution_count": null,
      "metadata": {
        "colab": {
          "base_uri": "https://localhost:8080/"
        },
        "id": "ld9gldW3yqkD",
        "outputId": "14c75633-cf7a-4879-dc7f-38910d7e4336"
      },
      "outputs": [],
      "source": [
        "df_geral.info()"
      ]
    },
    {
      "cell_type": "code",
      "execution_count": null,
      "metadata": {
        "colab": {
          "base_uri": "https://localhost:8080/"
        },
        "id": "u2d8IS8syv7p",
        "outputId": "c5d53128-6be8-48ed-b54b-31c4134a5b41"
      },
      "outputs": [],
      "source": [
        "uf_ne=['Alagoas','Bahia','Ceará','Maranhão','Paraíba','Pernambuco','Piauí','Rio Grande do Norte','Sergipe']\n",
        "df_nordeste = df_geral[df_geral['Nome_UF'].isin(uf_ne)]\n",
        "\n",
        "df_nordeste.info()"
      ]
    },
    {
      "cell_type": "code",
      "execution_count": null,
      "metadata": {
        "id": "Ru8eYuDcy3Oi"
      },
      "outputs": [],
      "source": [
        "df_nordeste = df_nordeste.drop(columns=['Código Município Completo'])"
      ]
    },
    {
      "cell_type": "markdown",
      "metadata": {
        "id": "zvwP0Y0brMLj"
      },
      "source": [
        "# Cálculo de variáveis auxiliares"
      ]
    },
    {
      "cell_type": "markdown",
      "metadata": {
        "id": "s5BHi8WDrit8"
      },
      "source": [
        "# Aplicação de medidas estatísticas"
      ]
    },
    {
      "cell_type": "markdown",
      "metadata": {},
      "source": [
        "**Cálculo do PIB per capita dos municípios do Nordeste em reais**"
      ]
    },
    {
      "cell_type": "code",
      "execution_count": null,
      "metadata": {},
      "outputs": [],
      "source": [
        "df_nordeste['PIB per capita'] = (df_nordeste['PIB (Mil Reais)'] * 1000) / df_nordeste['População (Pessoas)']\n",
        "\n",
        "df_nordeste.info()\n"
      ]
    },
    {
      "cell_type": "code",
      "execution_count": null,
      "metadata": {
        "colab": {
          "base_uri": "https://localhost:8080/"
        },
        "id": "RAjHPLjKzF6V",
        "outputId": "442267d0-048e-4092-8f47-f54149f4797b"
      },
      "outputs": [],
      "source": [
        "df_nordeste_teste = df_nordeste.groupby(['Nome_UF'])['PIB per capita']"
      ]
    },
    {
      "cell_type": "code",
      "execution_count": null,
      "metadata": {
        "colab": {
          "base_uri": "https://localhost:8080/",
          "height": 363
        },
        "id": "MB7IYe0y4Ev1",
        "outputId": "ed68844b-e71a-47e2-9b5c-386dfb6589ce"
      },
      "outputs": [],
      "source": [
        "df_nordeste_teste = df_nordeste.groupby(['Nome_UF'])['PIB per capita'].describe()\n",
        "df_nordeste_teste['coef_variacao'] = ((df_nordeste_teste['std']/df_nordeste_teste['mean']) *100).round(2)\n",
        "df_nordeste_teste = df_nordeste_teste.sort_values(by='coef_variacao',ascending=False)\n",
        "df_nordeste_teste"
      ]
    },
    {
      "cell_type": "markdown",
      "metadata": {},
      "source": [
        "**Nota**: o Coeficiente de variação (CV) é a razão entre desvio padrão e média, expressa em %, e serve para comparar a variabilidade relativa, importante para entender desigualdade nesse contexto.\n",
        "\n",
        "**Análise**: Os estados Coeficiente de variação mais alto têm desigualdade maior entre seus municípios. \n",
        "Sendo o top 5: Maranhão, Bahia, Rio Grande do Norte, Pernambuco e Piauí. "
      ]
    },
    {
      "cell_type": "code",
      "execution_count": null,
      "metadata": {},
      "outputs": [],
      "source": [
        "estados_desiguais = ['Maranhão', 'Bahia', 'Rio Grande do Norte']\n",
        "df_desiguais = df_nordeste[df_nordeste['Nome_UF'].isin(estados_desiguais)].sort_values(by='PIB per capita', ascending=False)\n",
        "\n",
        "df_desiguais"
      ]
    },
    {
      "cell_type": "code",
      "execution_count": null,
      "metadata": {},
      "outputs": [],
      "source": [
        "import pandas as pd\n",
        "\n",
        "# Estados mais desiguais\n",
        "estados_desiguais = ['Maranhão', 'Bahia', 'Rio Grande do Norte']\n",
        "\n",
        "# Lista para armazenar os resultados\n",
        "resultados = []\n",
        "\n",
        "for estado in estados_desiguais:\n",
        "    # Filtra só o estado\n",
        "    df_estado = df_nordeste[df_nordeste['Nome_UF'] == estado]\n",
        "    \n",
        "    # Calcula a média do estado\n",
        "    media_estado = df_estado['PIB per capita'].mean()\n",
        "    \n",
        "    # Pega os top 5 municípios por PIB per capita\n",
        "    top_municipios = df_estado.sort_values(by='PIB per capita', ascending=False).head(5)\n",
        "    \n",
        "    # Adiciona ao resultado\n",
        "    for _, row in top_municipios.iterrows():\n",
        "        resultados.append({\n",
        "            'Estado': estado,\n",
        "            'Município': row['Nome_Município'],\n",
        "            'PIB per capita': row['PIB per capita'],\n",
        "            'Média do estado': media_estado,\n",
        "            'Acima da média (%)': round(((row['PIB per capita'] - media_estado) / media_estado) * 100, 2)\n",
        "        })\n",
        "\n",
        "# Converte para DataFrame\n",
        "df_top = pd.DataFrame(resultados)\n",
        "\n",
        "# Mostra o resultado ordenado por estado e PIB\n",
        "df_top = df_top.sort_values(by=['Estado', 'PIB per capita'], ascending=[True, False])\n"
      ]
    },
    {
      "cell_type": "code",
      "execution_count": null,
      "metadata": {
        "colab": {
          "base_uri": "https://localhost:8080/",
          "height": 421
        },
        "id": "VDY6jqN43iCp",
        "outputId": "66f6ff97-ff17-4733-8972-60921a9dba31"
      },
      "outputs": [],
      "source": [
        "df_uf_agrupado = df_nordeste.groupby('Nome_UF').sum(numeric_only=True).reset_index()\n",
        "df_uf_agrupado['PIB per capita (UF)'] = (df_uf_agrupado['PIB (Mil Reais)'] * 1000) /df_uf_agrupado['População (Pessoas)']\n",
        "df_uf_agrupado = df_uf_agrupado.drop(columns=['PIB per capita'])\n",
        "df_uf_agrupado"
      ]
    },
    {
      "cell_type": "code",
      "execution_count": null,
      "metadata": {
        "id": "nwRTxkYB3o5E"
      },
      "outputs": [],
      "source": [
        "df_uf_agrupado['% VA da agropecuária'] = ((df_uf_agrupado['VA da agropecuária (Mil Reais)']/df_uf_agrupado['PIB (Mil Reais)'])*100).round(2)\n",
        "df_uf_agrupado['% VA da indústria'] = ((df_uf_agrupado['VA da indústria (Mil Reais)']/df_uf_agrupado['PIB (Mil Reais)'])*100).round(2)\n",
        "df_uf_agrupado['% VA dos serviços'] = ((df_uf_agrupado['VA dos serviços (Mil Reais)']/df_uf_agrupado['PIB (Mil Reais)'])*100).round(2)\n",
        "df_uf_agrupado['% VA da administração pública'] = ((df_uf_agrupado['VA da administração pública (Mil Reais)']/df_uf_agrupado['PIB (Mil Reais)'])*100).round(2)\n",
        "df_uf_agrupado['% Impostos'] = ((df_uf_agrupado['Impostos (Mil Reais)']/df_uf_agrupado['PIB (Mil Reais)'])*100).round(2)"
      ]
    },
    {
      "cell_type": "code",
      "execution_count": null,
      "metadata": {
        "colab": {
          "base_uri": "https://localhost:8080/",
          "height": 455
        },
        "id": "XyCHprHd4ve4",
        "outputId": "5617d496-f9c4-4801-b3d4-491501be028e"
      },
      "outputs": [],
      "source": [
        "df_nordeste_teste = df_nordeste.groupby(['Nome_Município'])['PIB per capita'].describe()\n",
        "df_nordeste_teste"
      ]
    },
    {
      "cell_type": "markdown",
      "metadata": {
        "id": "qLx2_e7Wp0IX"
      },
      "source": [
        "**Medidas de tendência central e dispersão PIB per capita**"
      ]
    },
    {
      "cell_type": "markdown",
      "metadata": {
        "id": "mhL1T5Xurs_z"
      },
      "source": [
        "# Gráficos"
      ]
    },
    {
      "cell_type": "code",
      "execution_count": null,
      "metadata": {},
      "outputs": [],
      "source": [
        "import pandas as pd\n",
        "import matplotlib.pyplot as plt\n",
        "import seaborn as sns\n",
        "\n",
        "df_cv = pd.DataFrame(df_nordeste_teste['coef_variacao'])\n",
        "df_cv = df_cv.reset_index()\n",
        "\n",
        "sns.set_theme(style='whitegrid')\n",
        "\n",
        "plt.figure(figsize=(10,6))\n",
        "barplot = sns.barplot(x='coef_variacao', y='Nome_UF', data=df_cv, palette='viridis')\n",
        "\n",
        "plt.title('Coeficiente de Variação do PIB per capita por Estado do Nordeste', fontsize=14)\n",
        "plt.xlabel('Coeficiente de Variação (%)', fontsize=12)\n",
        "plt.ylabel('Estado', fontsize=12)\n",
        "\n",
        "for index, value in enumerate(df_cv['coef_variacao']):\n",
        "    plt.text(value + 2, index, f'{value:.2f}%', va='center')\n",
        "\n",
        "# Adiciona legenda explicativa embaixo do gráfico\n",
        "plt.figtext(0.5, -0.05, \n",
        "            \"Coeficiente de Variação (CV): mede a variação relativa dos valores em relação à média.\\n\"\n",
        "            \"CV baixo indica PIB per capita mais homogêneo entre municípios de um estado;\\n\"\n",
        "            \"CV alto indica maior desigualdade interna no PIB per capita.\", \n",
        "            wrap=True, horizontalalignment='center', fontsize=10)\n",
        "\n",
        "plt.tight_layout()\n",
        "plt.show()\n"
      ]
    },
    {
      "cell_type": "code",
      "execution_count": null,
      "metadata": {},
      "outputs": [],
      "source": [
        "import matplotlib.pyplot as plt\n",
        "import seaborn as sns\n",
        "\n",
        "sns.set_theme(style='whitegrid')\n",
        "plt.figure(figsize=(12, 6))\n",
        "barplot = sns.barplot(\n",
        "    x='PIB per capita', \n",
        "    y='Município', \n",
        "    hue='Estado', \n",
        "    data=df_top, \n",
        "    palette='viridis'\n",
        ")\n",
        "\n",
        "# Adicionar valores nas barras\n",
        "for p in barplot.patches:\n",
        "    valor = p.get_width()\n",
        "    if valor > 0:\n",
        "        if valor > df_top['PIB per capita'].max() * 0.85:\n",
        "            barplot.annotate(\n",
        "                f'{valor:,.2f}',\n",
        "                (valor - (valor * 0.05), p.get_y() + p.get_height() / 2),\n",
        "                ha='right', va='center',\n",
        "                color='white', fontsize=9, weight='bold'\n",
        "            )\n",
        "        else:\n",
        "            barplot.annotate(\n",
        "                f'{valor:,.2f}',\n",
        "                (valor, p.get_y() + p.get_height() / 2),\n",
        "                ha='left', va='center',\n",
        "                color='black', fontsize=9\n",
        "            )\n",
        "\n",
        "# Linha de média para cada estado + valor na legenda\n",
        "for estado in estados_desiguais:\n",
        "    media = df_top[df_top['Estado'] == estado]['Média do estado'].iloc[0]\n",
        "    plt.axvline(\n",
        "        media, linestyle='--', \n",
        "        label=f'Média {estado} ({media:,.2f})',  # 👈 adiciona o valor no label\n",
        "        alpha=0.6\n",
        "    )\n",
        "\n",
        "# Título e eixos\n",
        "plt.title('Top 5 Municípios que Mais Elevam o PIB per capita\\n(Maranhão, Bahia e Rio Grande do Norte)', fontsize=14)\n",
        "plt.xlabel('PIB per capita (R$)', fontsize=12)\n",
        "plt.ylabel('Município', fontsize=12)\n",
        "\n",
        "# Evita legendas duplicadas\n",
        "handles, labels = plt.gca().get_legend_handles_labels()\n",
        "by_label = dict(zip(labels, handles))\n",
        "plt.legend(by_label.values(), by_label.keys(), bbox_to_anchor=(1.05, 1), loc='upper left')\n",
        "\n",
        "plt.tight_layout()\n",
        "plt.show()\n"
      ]
    },
    {
      "cell_type": "markdown",
      "metadata": {},
      "source": [
        "```\n",
        "O gráfico acima mostra os munícipios que elevam o PIB per capita dos 3 estados mais desiguais do nordeste. \n",
        "Bahia: São Francisco do Conde lidera isoladamente, com quase R$ 300 mil por habitante, puxado pela refinaria de petróleo.\n",
        "\n",
        "Maranhão: Tasso Fragoso e Balsas se destacam pelo agronegócio de soja.\n",
        "\n",
        "Rio Grande do Norte: São Bento do Norte tem alta participação energética.\n",
        "``` "
      ]
    },
    {
      "cell_type": "code",
      "execution_count": null,
      "metadata": {
        "colab": {
          "base_uri": "https://localhost:8080/",
          "height": 262
        },
        "id": "PLkiCSm00xil",
        "outputId": "fcb370e1-323b-4758-cede-c528a6143c93"
      },
      "outputs": [],
      "source": [
        "#estado\n",
        "df_ordenado = df_uf_agrupado.sort_values(by='PIB per capita (UF)', ascending=False)\n",
        "top3 = df_ordenado.head(3)\n",
        "top3"
      ]
    },
    {
      "cell_type": "code",
      "execution_count": null,
      "metadata": {
        "colab": {
          "base_uri": "https://localhost:8080/",
          "height": 245
        },
        "id": "bs2zzopA6Uk_",
        "outputId": "2ec4cf76-df0e-41a2-a7cc-7f58d4bc2e85"
      },
      "outputs": [],
      "source": [
        "bottom3 = df_ordenado.tail(3)\n",
        "bottom3"
      ]
    },
    {
      "cell_type": "code",
      "execution_count": null,
      "metadata": {
        "id": "2PJafeVk-7IO"
      },
      "outputs": [],
      "source": [
        "# Medidas de tendência central\n",
        "media = df_ordenado['PIB per capita (UF)'].mean()\n",
        "mediana = df_ordenado['PIB per capita (UF)'].median()\n",
        "moda = df_ordenado['PIB per capita (UF)'].mode()[0]  # Se existir mais de uma, pega a primeira\n",
        "\n",
        "# Medidas de dispersão\n",
        "desvio_padrao =df_ordenado['PIB per capita (UF)'].std()\n",
        "variancia =df_ordenado['PIB per capita (UF)'].var()\n",
        "amplitude =df_ordenado['PIB per capita (UF)'].max() -df_ordenado['PIB per capita (UF)'].min()\n",
        "q1 =df_ordenado['PIB per capita (UF)'].quantile(0.25)\n",
        "q3 =df_ordenado['PIB per capita (UF)'].quantile(0.75)\n",
        "iqr = q3 - q1"
      ]
    },
    {
      "cell_type": "code",
      "execution_count": null,
      "metadata": {
        "colab": {
          "base_uri": "https://localhost:8080/",
          "height": 678
        },
        "id": "8EjMjYhc1WxG",
        "outputId": "e3828256-ca02-4177-809d-7dd83e1a3974"
      },
      "outputs": [],
      "source": [
        "import matplotlib.pyplot as plt\n",
        "import seaborn as sns\n",
        "\n",
        "fig, axes = plt.subplots(1, 2, figsize=(12,5))\n",
        "\n",
        "# Top 3\n",
        "ax1 = sns.barplot(ax=axes[0], x='PIB per capita (UF)', y='Nome_UF', data=top3, palette='Greens_r')\n",
        "axes[0].set_title('Top 3 PIB per capita agregado por estado')\n",
        "axes[0].set_xlabel('PIB per capita')\n",
        "\n",
        "# Adiciona labels com valores nas barras\n",
        "for container in ax1.containers:\n",
        "    ax1.bar_label(container, fmt='%.0f', padding=3)  # sem casas decimais, com espaçamento\n",
        "\n",
        "# Bottom 3\n",
        "ax2 = sns.barplot(ax=axes[1], x='PIB per capita (UF)', y='Nome_UF', data=bottom3, palette='Reds')\n",
        "axes[1].set_title('Bottom 3 PIB per capita agregado por estado')\n",
        "axes[1].set_xlabel('PIB per capita')\n",
        "\n",
        "for container in ax2.containers:\n",
        "    ax2.bar_label(container, fmt='%.0f', padding=3)\n",
        "\n",
        "plt.tight_layout()\n",
        "plt.show()\n"
      ]
    },
    {
      "cell_type": "code",
      "execution_count": null,
      "metadata": {
        "colab": {
          "base_uri": "https://localhost:8080/",
          "height": 481
        },
        "collapsed": true,
        "id": "WbA9qDN77vOu",
        "outputId": "0ce5b29e-a178-4192-ca61-2b57f5157888"
      },
      "outputs": [],
      "source": [
        "#minicipio\n",
        "df_ordenado_1 = df_nordeste.sort_values(by='PIB per capita', ascending=False)\n",
        "top5 = df_ordenado_1.head(5)\n",
        "top5"
      ]
    },
    {
      "cell_type": "code",
      "execution_count": null,
      "metadata": {
        "colab": {
          "base_uri": "https://localhost:8080/",
          "height": 429
        },
        "collapsed": true,
        "id": "XIPaj1rQ8Otk",
        "outputId": "904ccbdb-85a1-4d97-d976-3af1cd14f46b"
      },
      "outputs": [],
      "source": [
        "bottom5 = df_ordenado_1.tail(5)\n",
        "bottom5"
      ]
    },
    {
      "cell_type": "code",
      "execution_count": null,
      "metadata": {
        "id": "N9Tcnk2_ARlL"
      },
      "outputs": [],
      "source": [
        "filtro_top3 = df_nordeste[df_nordeste['Nome_UF'].isin(['Bahia','Rio Grande do Norte','Pernambuco'])]\n",
        "filtro_ba = df_nordeste[df_nordeste['Nome_UF'].isin(['Bahia'])]\n",
        "filtro_rn = df_nordeste[df_nordeste['Nome_UF'].isin(['Rio Grande do Norte'])]\n",
        "filtro_pe = df_nordeste[df_nordeste['Nome_UF'].isin(['Pernambuco'])]\n"
      ]
    },
    {
      "cell_type": "code",
      "execution_count": null,
      "metadata": {
        "colab": {
          "base_uri": "https://localhost:8080/",
          "height": 594
        },
        "id": "fbMokEsdRkcB",
        "outputId": "0d9aa577-7619-4850-f939-9eaf9fc100fc"
      },
      "outputs": [],
      "source": [
        "import matplotlib.pyplot as plt\n",
        "import seaborn as sns\n",
        "\n",
        "plt.figure(figsize=(8,5))\n",
        "sns.set_style(\"whitegrid\")\n",
        "\n",
        "ax = sns.barplot(x='PIB per capita', y='Município_x', data=top5, palette='Greens_r')\n",
        "ax.set_title('Top 5 PIB per capita Municipal')\n",
        "ax.set_xlabel('PIB per capita')\n",
        "ax.set_ylabel('Município')\n",
        "\n",
        "# Adiciona os valores na barra\n",
        "for container in ax.containers:\n",
        "    ax.bar_label(container, fmt='%.0f', padding=3)\n",
        "\n",
        "sns.despine(left=True, bottom=True)\n",
        "plt.tight_layout()\n",
        "plt.show()\n"
      ]
    },
    {
      "cell_type": "code",
      "execution_count": null,
      "metadata": {
        "colab": {
          "base_uri": "https://localhost:8080/",
          "height": 594
        },
        "id": "EhUtAwH0Rng6",
        "outputId": "ce1119f1-3be3-49a7-e3d1-171799c2a91e"
      },
      "outputs": [],
      "source": [
        "import matplotlib.pyplot as plt\n",
        "import seaborn as sns\n",
        "\n",
        "plt.figure(figsize=(8,5))\n",
        "sns.set_style(\"whitegrid\")\n",
        "\n",
        "ax = sns.barplot(x='PIB per capita', y='Município_x', data=bottom5, palette='Reds')\n",
        "ax.set_title('Bottom 5 PIB per capita Municipal')\n",
        "ax.set_xlabel('PIB per capita')\n",
        "ax.set_ylabel('Município')\n",
        "\n",
        "# Adiciona os valores na barra\n",
        "for container in ax.containers:\n",
        "    ax.bar_label(container, fmt='%.2f', padding=3)\n",
        "\n",
        "sns.despine(left=True, bottom=True)\n",
        "plt.tight_layout()\n",
        "plt.show()\n"
      ]
    },
    {
      "cell_type": "code",
      "execution_count": null,
      "metadata": {
        "colab": {
          "base_uri": "https://localhost:8080/",
          "height": 756
        },
        "id": "jrMxPjRBQRYW",
        "outputId": "6fdca8c9-99d8-4ccc-b4b2-772e64dd6a69"
      },
      "outputs": [],
      "source": [
        "df_ordenado_2 = df_nordeste.sort_values(by='PIB (Mil Reais)', ascending=False)\n",
        "df_ordenado_2"
      ]
    },
    {
      "cell_type": "code",
      "execution_count": null,
      "metadata": {
        "colab": {
          "base_uri": "https://localhost:8080/",
          "height": 594
        },
        "id": "uAaSBxmoSD_9",
        "outputId": "4711847b-ce78-47e3-a0f1-e03b42406207"
      },
      "outputs": [],
      "source": [
        "import matplotlib.pyplot as plt\n",
        "import seaborn as sns\n",
        "\n",
        "plt.figure(figsize=(8,5))\n",
        "sns.set_style(\"whitegrid\")  # estilo mais clean, com grid suave\n",
        "\n",
        "# Gráfico Top 5\n",
        "ax = sns.barplot(x='PIB (Mil Reais)', y='Município_x', data=df_ordenado_2.head(5), palette='Greens_r')\n",
        "ax.set_title('Top 5 PIB Municipal')\n",
        "ax.set_xlabel('PIB')\n",
        "ax.set_ylabel('Município')\n",
        "\n",
        "# Remove bordas (spines)\n",
        "sns.despine(left=True, bottom=True)\n",
        "\n",
        "plt.tight_layout()\n",
        "plt.show()\n"
      ]
    },
    {
      "cell_type": "code",
      "execution_count": null,
      "metadata": {
        "colab": {
          "base_uri": "https://localhost:8080/",
          "height": 594
        },
        "id": "1I7M0KJ_SS9j",
        "outputId": "716bc0c3-26a5-4498-d6fb-ae787b47bd61"
      },
      "outputs": [],
      "source": [
        "import matplotlib.pyplot as plt\n",
        "import seaborn as sns\n",
        "\n",
        "plt.figure(figsize=(8,5))\n",
        "sns.set_style(\"whitegrid\")  # estilo mais clean, com grid suave\n",
        "\n",
        "# Gráfico Top 5\n",
        "ax = sns.barplot(x='PIB (Mil Reais)', y='Município_x', data=df_ordenado_2.tail(5), palette='Reds')\n",
        "ax.set_title('Bottom 5 PIB Municipal')\n",
        "ax.set_xlabel('PIB')\n",
        "ax.set_ylabel('Município')\n",
        "\n",
        "# Remove bordas (spines)\n",
        "sns.despine(left=True, bottom=True)\n",
        "\n",
        "plt.tight_layout()\n",
        "plt.show()"
      ]
    },
    {
      "cell_type": "code",
      "execution_count": null,
      "metadata": {
        "colab": {
          "base_uri": "https://localhost:8080/",
          "height": 594
        },
        "id": "VIa8Mk6MRUS9",
        "outputId": "a2b15e6c-7f7a-43e3-da5f-c3be3520fd59"
      },
      "outputs": [],
      "source": [
        "import matplotlib.pyplot as plt\n",
        "import seaborn as sns\n",
        "\n",
        "plt.figure(figsize=(8,5))\n",
        "sns.set_style(\"whitegrid\")  # estilo mais clean, com grid suave\n",
        "\n",
        "# Gráfico Top 5\n",
        "ax = sns.barplot(x='PIB (Mil Reais)', y='Município_x', data=top5, palette='Greens_r')\n",
        "ax.set_title('Top 5 PIB per capita Municipal')\n",
        "ax.set_xlabel('PIB per capita')\n",
        "ax.set_ylabel('Município')\n",
        "\n",
        "# Remove bordas (spines)\n",
        "sns.despine(left=True, bottom=True)\n",
        "\n",
        "plt.tight_layout()\n",
        "plt.show()"
      ]
    },
    {
      "cell_type": "code",
      "execution_count": null,
      "metadata": {},
      "outputs": [],
      "source": [
        "import numpy as np\n",
        "import matplotlib.pyplot as plt\n",
        "\n",
        "estados = df_uf_agrupado['Nome_UF']\n",
        "pib = df_uf_agrupado['PIB (Mil Reais)']\n",
        "impostos = df_uf_agrupado['Impostos (Mil Reais)']\n",
        "agro = df_uf_agrupado['VA da agropecuária (Mil Reais)']\n",
        "industria = df_uf_agrupado['VA da indústria (Mil Reais)']\n",
        "servicos = df_uf_agrupado['VA dos serviços (Mil Reais)']\n",
        "adm_publica = df_uf_agrupado['VA da administração pública (Mil Reais)']\n",
        "\n",
        "total = pib.values\n",
        "\n",
        "agro_pct = (agro / total) * 100\n",
        "industria_pct = (industria / total) * 100\n",
        "servicos_pct = (servicos / total) * 100\n",
        "adm_publica_pct = (adm_publica / total) * 100\n",
        "impostos_pct = (impostos / total) * 100\n",
        "\n",
        "x = np.arange(len(estados))\n",
        "\n",
        "fig, ax = plt.subplots(figsize=(14,7))\n",
        "\n",
        "b1 = ax.bar(x, agro_pct, label='Agropecuária')\n",
        "b2 = ax.bar(x, industria_pct, bottom=agro_pct, label='Indústria')\n",
        "b3 = ax.bar(x, servicos_pct, bottom=agro_pct+industria_pct, label='Serviços')\n",
        "b4 = ax.bar(x, adm_publica_pct, bottom=agro_pct+industria_pct+servicos_pct, label='Administração Pública')\n",
        "b5 = ax.bar(x, impostos_pct, bottom=agro_pct+industria_pct+servicos_pct+adm_publica_pct, label='Impostos')\n",
        "\n",
        "ax.set_xticks(x)\n",
        "ax.set_xticklabels(estados, rotation=45, ha='right')\n",
        "ax.set_ylabel('Percentual (%)')\n",
        "ax.set_title('Participação percentual dos setores no PIB por Estado (Nordeste)')\n",
        "\n",
        "ax.legend(loc='center left', bbox_to_anchor=(1, 0.5))\n",
        "\n",
        "def add_labels(barras):\n",
        "    for barra in barras:\n",
        "        altura = barra.get_height()\n",
        "        if altura > 3:\n",
        "            ax.text(barra.get_x() + barra.get_width()/2, barra.get_y() + altura/2,\n",
        "                    f'{altura:.1f}%', ha='center', va='center', color='white', fontsize=9, fontweight='bold')\n",
        "\n",
        "add_labels(b1)\n",
        "add_labels(b2)\n",
        "add_labels(b3)\n",
        "add_labels(b4)\n",
        "add_labels(b5)\n",
        "\n",
        "plt.tight_layout(rect=[0, 0, 0.85, 1])\n",
        "plt.show()"
      ]
    },
    {
      "cell_type": "code",
      "execution_count": null,
      "metadata": {},
      "outputs": [],
      "source": [
        "df_nordeste[\"PIB per capita\"].skew()"
      ]
    },
    {
      "cell_type": "markdown",
      "metadata": {},
      "source": [
        "**Assimetria** é uma medida de \"inclinação\" dos valores em relação a sua média.\n",
        "**assimetria positiva:** indica que a causa está a direita"
      ]
    },
    {
      "cell_type": "code",
      "execution_count": null,
      "metadata": {},
      "outputs": [],
      "source": [
        "import matplotlib.pyplot as plt\n",
        "import numpy as np\n",
        "\n",
        "# Cria o histograma do PIB per capita (municípios do Nordeste) com log\n",
        "plt.figure(figsize=(8,5))\n",
        "plt.hist(np.log10(df_nordeste[\"PIB per capita\"]), bins=60, color=\"skyblue\", edgecolor=\"black\")\n",
        "\n",
        "# Títulos e rótulos ajustados\n",
        "plt.title(\"Distribuição do PIB per capita (log10) - Municípios do Nordeste\", fontsize=14, fontweight=\"bold\")\n",
        "plt.xlabel(\"Log10 do PIB per capita (R$)\", fontsize=12)\n",
        "plt.ylabel(\"Número de municípios\", fontsize=12)\n",
        "\n",
        "# Média e mediana no gráfico\n",
        "media = np.mean(np.log10(df_nordeste[\"PIB per capita\"]))\n",
        "mediana = np.median(np.log10(df_nordeste[\"PIB per capita\"]))\n",
        "plt.axvline(media, color='red', linestyle='--', label=f\"Média: {media:.2f}\")\n",
        "plt.axvline(mediana, color='green', linestyle=':', label=f\"Mediana: {mediana:.2f}\")\n",
        "\n",
        "plt.legend()\n",
        "plt.grid(axis=\"y\", linestyle=\"--\", alpha=0.7)\n",
        "plt.show()\n",
        "\n"
      ]
    },
    {
      "cell_type": "markdown",
      "metadata": {},
      "source": [
        "````\n",
        "Cada barra representa uma faixa de PIB per capita (em escala logarítmica).\n",
        "O eixo Y mostra quantos municípios estão naquela faixa.\n",
        "Ao usar o log10 do PIB per capita, nós transformamos valores que iam de alguns poucos reais por pessoa até centenas de milhares em uma escala mais compacta e interpretável.\n",
        "\n",
        "Interpretação: A distribuição é fortemente assimétrica (cauda longa à direita). O log(10) suaviza essa assimetria, tornando o padrão mais claro.\n",
        "Existem alguns poucos municípios com PIB per capita altíssimo (outliers).\n",
        "A média é puxada para cima por esses outliers, ficando maior que a mediana.\n",
        "````\n"
      ]
    },
    {
      "cell_type": "code",
      "execution_count": null,
      "metadata": {},
      "outputs": [],
      "source": [
        "df_nordeste[\"PIB per capita\"].kurtosis()"
      ]
    },
    {
      "cell_type": "code",
      "execution_count": null,
      "metadata": {},
      "outputs": [],
      "source": [
        "df_nordeste[\"PIB (Mil Reais)\"].kurtosis()"
      ]
    },
    {
      "cell_type": "markdown",
      "metadata": {},
      "source": [
        "**Curtose**: Medida em relação a causa. \n",
        "Curtose elevada indica muitos outliers."
      ]
    },
    {
      "cell_type": "markdown",
      "metadata": {},
      "source": [
        "**Boxplot**: método gráfico para demonstrar localização, dispersão e asssimetria de dados numéricos."
      ]
    },
    {
      "cell_type": "code",
      "execution_count": null,
      "metadata": {},
      "outputs": [],
      "source": [
        "import seaborn as sns\n",
        "\n",
        "sns.set_theme(style=\"whitegrid\")\n",
        "sns.boxplot(x=\"PIB per capita\", data=df_nordeste, palette=\"Set2\", whis=10)\n",
        "\n"
      ]
    },
    {
      "cell_type": "code",
      "execution_count": null,
      "metadata": {},
      "outputs": [],
      "source": [
        "q1=df_nordeste[\"PIB per capita\"].quantile(0.25)\n",
        "q3=df_nordeste[\"PIB per capita\"].quantile(0.75)\n",
        "m= df_nordeste[\"PIB per capita\"].mean()\n",
        "iqr = q3 - q1\n",
        "lower_bound = q1 - 1.5 * iqr\n",
        "upper_bound = q3 + 1.5 * iqr\n"
      ]
    },
    {
      "cell_type": "code",
      "execution_count": null,
      "metadata": {},
      "outputs": [],
      "source": [
        "import seaborn as sns\n",
        "\n",
        "sns.set_theme(style=\"whitegrid\")\n",
        "sns.boxplot(x=\"PIB (Mil Reais)\", data=df_nordeste, palette=\"Set2\", whis=0.5)\n"
      ]
    },
    {
      "cell_type": "code",
      "execution_count": null,
      "metadata": {},
      "outputs": [],
      "source": [
        "import matplotlib.pyplot as plt\n",
        "import seaborn as sns\n",
        "\n",
        "q1 = df_nordeste['PIB (Mil Reais)'].quantile(0.25)\n",
        "q3 = df_nordeste['PIB (Mil Reais)'].quantile(0.75)\n",
        "iqr = q3 - q1\n",
        "limite_inferior = q1 - 1.5 * iqr\n",
        "limite_superior = q3 + 1.5 * iqr\n",
        "outliers = (df_nordeste['PIB (Mil Reais)'] < limite_inferior) | (df_nordeste['PIB (Mil Reais)'] > limite_superior)\n",
        "\n",
        "plt.figure(figsize=(12, 8))\n",
        "sns.scatterplot(data=df_nordeste, x='População (Pessoas)', y='PIB (Mil Reais)', hue=outliers, palette={True: 'orange', False: 'green'}, alpha=0.7)\n",
        "\n",
        "plt.title('Relação entre População e PIB total nos Municípios do Nordeste', fontsize=14)\n",
        "plt.xlabel('População (Pessoas)')\n",
        "plt.ylabel('PIB (Mil Reais)')\n",
        "plt.xscale('log')\n",
        "plt.yscale('log')\n",
        "plt.legend(title='Outlier', labels=['Sim', 'Não'], bbox_to_anchor=(1.02, 1), loc='upper left')\n",
        "plt.tight_layout()\n",
        "plt.show()\n"
      ]
    },
    {
      "cell_type": "code",
      "execution_count": null,
      "metadata": {},
      "outputs": [],
      "source": [
        "import matplotlib.pyplot as plt\n",
        "import seaborn as sns\n",
        "\n",
        "q1 = df_nordeste['PIB per capita'].quantile(0.25)\n",
        "q3 = df_nordeste['PIB per capita'].quantile(0.75)\n",
        "iqr = q3 - q1\n",
        "limite_inferior = q1 - 1.5 * iqr\n",
        "limite_superior = q3 + 1.5 * iqr\n",
        "outliers = (df_nordeste['PIB per capita'] < limite_inferior) | (df_nordeste['PIB per capita'] > limite_superior)\n",
        "\n",
        "plt.figure(figsize=(12, 8))\n",
        "sns.scatterplot( data=df_nordeste, x='População (Pessoas)', y='PIB per capita', hue=outliers, palette={True: 'orange', False: 'green'}, alpha=0.7)\n",
        "\n",
        "plt.title('Relação entre População e PIB per capita nos Municípios do Nordeste', fontsize=14)\n",
        "plt.xlabel('População (Pessoas)')\n",
        "plt.ylabel('PIB per capita')\n",
        "plt.xscale('log')\n",
        "plt.yscale('log')\n",
        "plt.legend(title='Outlier', labels=['Sim', 'Não'], bbox_to_anchor=(1.02, 1), loc='upper left')\n",
        "plt.tight_layout()\n",
        "plt.show()\n"
      ]
    },
    {
      "cell_type": "code",
      "execution_count": null,
      "metadata": {},
      "outputs": [],
      "source": [
        "df_bahia=df_nordeste[df_nordeste['Nome_UF']==\"Bahia\"]"
      ]
    },
    {
      "cell_type": "code",
      "execution_count": null,
      "metadata": {},
      "outputs": [],
      "source": [
        "import matplotlib.pyplot as plt\n",
        "import seaborn as sns\n",
        "\n",
        "q1 = df_bahia['PIB per capita'].quantile(0.25)\n",
        "q3 = df_bahia['PIB per capita'].quantile(0.75)\n",
        "iqr = q3 - q1\n",
        "limite_inferior = q1 - 1.5 * iqr\n",
        "limite_superior = q3 + 1.5 * iqr\n",
        "outliers = (df_bahia['PIB per capita'] < limite_inferior) | (df_bahia['PIB per capita'] > limite_superior)\n",
        "\n",
        "plt.figure(figsize=(12, 8))\n",
        "sns.scatterplot( data=df_bahia, x='População (Pessoas)', y='PIB per capita', hue=outliers, palette={True: 'orange', False: 'green'}, alpha=0.7)\n",
        "\n",
        "plt.title('Relação entre População e PIB per capita nos Municípios do Nordeste', fontsize=14)\n",
        "plt.xlabel('População (Pessoas)')\n",
        "plt.ylabel('PIB per capita')\n",
        "plt.xscale('log')\n",
        "plt.yscale('log')\n",
        "plt.legend(title='Outlier', labels=['Sim', 'Não'], bbox_to_anchor=(1.02, 1), loc='upper left')\n",
        "plt.tight_layout()\n",
        "plt.show()\n"
      ]
    },
    {
      "cell_type": "code",
      "execution_count": null,
      "metadata": {},
      "outputs": [],
      "source": [
        "import numpy as np\n",
        "\n",
        "df_nordeste[\"LOG10 Pib Per Capta\"] = (np.log10(df_nordeste[\"PIB per capita\"]))"
      ]
    },
    {
      "cell_type": "code",
      "execution_count": null,
      "metadata": {},
      "outputs": [],
      "source": [
        "import seaborn as sns\n",
        "\n",
        "sns.set_theme(style=\"whitegrid\")\n",
        "sns.boxplot(x=\"LOG10 Pib Per Capta\", data=df_nordeste, palette=\"Set2\", whis=0.5)\n",
        "\n"
      ]
    },
    {
      "cell_type": "code",
      "execution_count": null,
      "metadata": {},
      "outputs": [],
      "source": [
        "data = df_nordeste[df_nordeste[\"Nome_UF\"] == \"Maranhão\"]\n",
        "\n",
        "data[\"LOG10 Pib Per Capita\"] = (np.log10(data[\"PIB per capita\"]))\n",
        "\n",
        "data"
      ]
    },
    {
      "cell_type": "code",
      "execution_count": null,
      "metadata": {},
      "outputs": [],
      "source": [
        "\n",
        "import seaborn as sns\n",
        "\n",
        "sns.set_theme(style=\"darkgrid\")\n",
        "sns.boxplot(x=\"LOG10 Pib Per Capita\", data=data, palette=\"Set2\", whis=0.5)\n",
        "\n",
        "\n"
      ]
    },
    {
      "cell_type": "code",
      "execution_count": null,
      "metadata": {},
      "outputs": [],
      "source": [
        "data = df_nordeste[df_nordeste[\"Nome_UF\"] == \"Ceará\"]\n",
        "\n",
        "data[\"LOG10 Pib Per Capita\"] = (np.log10(data[\"PIB per capita\"]))\n",
        "\n",
        "data"
      ]
    },
    {
      "cell_type": "code",
      "execution_count": null,
      "metadata": {},
      "outputs": [],
      "source": [
        "\n",
        "import seaborn as sns\n",
        "\n",
        "sns.set_theme(style=\"ticks\")\n",
        "sns.boxplot(x=\"LOG10 Pib Per Capita\", data=data, palette=\"Set2\", whis=0.5)\n",
        "\n"
      ]
    }
  ],
  "metadata": {
    "colab": {
      "provenance": []
    },
    "kernelspec": {
      "display_name": "Python 3",
      "name": "python3"
    },
    "language_info": {
      "codemirror_mode": {
        "name": "ipython",
        "version": 3
      },
      "file_extension": ".py",
      "mimetype": "text/x-python",
      "name": "python",
      "nbconvert_exporter": "python",
      "pygments_lexer": "ipython3",
      "version": "3.13.5"
    }
  },
  "nbformat": 4,
  "nbformat_minor": 0
}
