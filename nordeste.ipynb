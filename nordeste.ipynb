{
  "cells": [
    {
      "cell_type": "markdown",
      "metadata": {
        "id": "Oh4RSgNJP8g0"
      },
      "source": [
        "**Pergunta-Guia: O Brasil é um país desigual?**"
      ]
    },
    {
      "cell_type": "markdown",
      "metadata": {
        "id": "Mj5O-fJAsLhT"
      },
      "source": [
        "\n",
        "\n",
        "> Projeto do primeiro módulo da disciplina de estatística para ciência de dados. Composto pela equipe: Ana Caroline, Carlos Eduardo, Claudio Cruz, Julio Sousa e Maria Eduarda.\n",
        "Nesse projeto analisamos e cruzamos os dados dos estados e munícipios do Nordeste.\n",
        "\n"
      ]
    },
    {
      "cell_type": "markdown",
      "metadata": {
        "id": "hOJuElBJqxn8"
      },
      "source": [
        "# Importação e cruzamento dos dados"
      ]
    },
    {
      "cell_type": "code",
      "execution_count": 3,
      "metadata": {
        "colab": {
          "base_uri": "https://localhost:8080/"
        },
        "collapsed": true,
        "id": "RZxgk2rh5BcW",
        "outputId": "b1002857-9ce8-44f8-e0a7-e8d149e5eb93"
      },
      "outputs": [
        {
          "name": "stdout",
          "output_type": "stream",
          "text": [
            "/Library/Frameworks/Python.framework/Versions/2.7/lib/python2.7/site-packages/gdown/cli.py:142: FutureWarning: Option `--id` was deprecated in version 4.3.1 and will be removed in 5.0. You don't need to pass it anymore to use a file ID.\n",
            "  category=FutureWarning,\n",
            "Downloading...\n",
            "From: https://drive.google.com/uc?id=1GQVxYHY9ouZvh_Jkbzt3sjnWHslxGqnX\n",
            "To: /Users/dudanobre/Documents/POS/sidra-nordeste/tabela5938_2020.csv.xz\n",
            "100%|█████████████████████████████████████████| 142k/142k [00:00<00:00, 118MB/s]\n",
            "/Library/Frameworks/Python.framework/Versions/2.7/lib/python2.7/site-packages/gdown/cli.py:142: FutureWarning: Option `--id` was deprecated in version 4.3.1 and will be removed in 5.0. You don't need to pass it anymore to use a file ID.\n",
            "  category=FutureWarning,\n",
            "Downloading...\n",
            "From: https://drive.google.com/uc?id=1OLg85S7vAr4MQomc_wcaQhRo6SLciSu0\n",
            "To: /Users/dudanobre/Documents/POS/sidra-nordeste/tabela6579_2020.csv.xz\n",
            "100%|███████████████████████████████████████| 55.3k/55.3k [00:00<00:00, 266kB/s]\n",
            "/Library/Frameworks/Python.framework/Versions/2.7/lib/python2.7/site-packages/gdown/cli.py:142: FutureWarning: Option `--id` was deprecated in version 4.3.1 and will be removed in 5.0. You don't need to pass it anymore to use a file ID.\n",
            "  category=FutureWarning,\n",
            "Downloading...\n",
            "From: https://drive.google.com/uc?id=1G3Ll5LsIhsvpodjnKg6JE0KXbc_D-BSP\n",
            "To: /Users/dudanobre/Documents/POS/sidra-nordeste/RELATORIO_DTB_BRASIL_MUNICIPIO.csv\n",
            "100%|████████████████████████████████████████| 660k/660k [00:00<00:00, 2.08MB/s]\n",
            "/Library/Frameworks/Python.framework/Versions/2.7/lib/python2.7/site-packages/gdown/cli.py:142: FutureWarning: Option `--id` was deprecated in version 4.3.1 and will be removed in 5.0. You don't need to pass it anymore to use a file ID.\n",
            "  category=FutureWarning,\n",
            "Downloading...\n",
            "From (original): https://drive.google.com/uc?id=1fTpyrtqqg4TiLXjNtaDqEfQmLRsHJ5A5\n",
            "From (redirected): https://drive.google.com/uc?id=1fTpyrtqqg4TiLXjNtaDqEfQmLRsHJ5A5&confirm=t&uuid=bf7e9122-a094-4774-b253-4df7fd970692\n",
            "To: /Users/dudanobre/Documents/POS/sidra-nordeste/RG2017_regioesgeograficas2017_20180911.zip\n",
            "100%|██████████████████████████████████████| 87.6M/87.6M [00:06<00:00, 13.8MB/s]\n"
          ]
        }
      ],
      "source": [
        "import pandas as pd\n",
        "\n",
        "!gdown --id 1GQVxYHY9ouZvh_Jkbzt3sjnWHslxGqnX\n",
        "!gdown --id 1OLg85S7vAr4MQomc_wcaQhRo6SLciSu0\n",
        "!gdown --id 1G3Ll5LsIhsvpodjnKg6JE0KXbc_D-BSP\n",
        "\n",
        "!gdown --id 1fTpyrtqqg4TiLXjNtaDqEfQmLRsHJ5A5\n"
      ]
    },
    {
      "cell_type": "code",
      "execution_count": 4,
      "metadata": {},
      "outputs": [
        {
          "ename": "ModuleNotFoundError",
          "evalue": "No module named 'geopandas'",
          "output_type": "error",
          "traceback": [
            "\u001b[31m---------------------------------------------------------------------------\u001b[39m",
            "\u001b[31mModuleNotFoundError\u001b[39m                       Traceback (most recent call last)",
            "\u001b[36mCell\u001b[39m\u001b[36m \u001b[39m\u001b[32mIn[4]\u001b[39m\u001b[32m, line 1\u001b[39m\n\u001b[32m----> \u001b[39m\u001b[32m1\u001b[39m \u001b[38;5;28;01mimport\u001b[39;00m\u001b[38;5;250m \u001b[39m\u001b[34;01mgeopandas\u001b[39;00m\u001b[38;5;250m \u001b[39m\u001b[38;5;28;01mas\u001b[39;00m\u001b[38;5;250m \u001b[39m\u001b[34;01mgpd\u001b[39;00m\n\u001b[32m      3\u001b[39m zip_path = \u001b[33m\"\u001b[39m\u001b[33mRG2017_regioesgeograficas2017_20180911.zip\u001b[39m\u001b[33m\"\u001b[39m\n\u001b[32m      5\u001b[39m \u001b[38;5;66;03m# o GeoPandas/Fiona suporta leitura direta com \"zip://\"\u001b[39;00m\n",
            "\u001b[31mModuleNotFoundError\u001b[39m: No module named 'geopandas'"
          ]
        }
      ],
      "source": [
        "import geopandas as gpd\n",
        "\n",
        "zip_path = \"RG2017_regioesgeograficas2017_20180911.zip\"\n",
        "\n",
        "# o GeoPandas/Fiona suporta leitura direta com \"zip://\"\n",
        "df_mun = gpd.read_file(f\"zip://{zip_path}\")\n",
        "\n",
        "#df_mun = gpd.read_file('RG2017_regioesgeograficas2017.shp', encoding = 'latin1')"
      ]
    },
    {
      "cell_type": "code",
      "execution_count": 5,
      "metadata": {
        "collapsed": true,
        "id": "sml-63aBOA84"
      },
      "outputs": [],
      "source": [
        "df_pib = pd.read_csv(\"tabela5938_2020.csv.xz\")\n",
        "df_pop = pd.read_csv(\"tabela6579_2020.csv.xz\")\n",
        "df_dtb = pd.read_csv(\"RELATORIO_DTB_BRASIL_MUNICIPIO.csv\")"
      ]
    },
    {
      "cell_type": "code",
      "execution_count": 6,
      "metadata": {
        "colab": {
          "base_uri": "https://localhost:8080/",
          "height": 458
        },
        "collapsed": true,
        "id": "1jr3pIrhyLWI",
        "outputId": "12c94d84-a838-42c8-f260-87253d03bd5f"
      },
      "outputs": [
        {
          "data": {
            "text/plain": [
              "Index(['Cód.', 'Município', 'PIB (Mil Reais)', 'Impostos (Mil Reais)',\n",
              "       'VA da agropecuária (Mil Reais)', 'VA da indústria (Mil Reais)',\n",
              "       'VA dos serviços (Mil Reais)',\n",
              "       'VA da administração pública (Mil Reais)'],\n",
              "      dtype='object')"
            ]
          },
          "execution_count": 6,
          "metadata": {},
          "output_type": "execute_result"
        }
      ],
      "source": [
        "df_pib.columns"
      ]
    },
    {
      "cell_type": "code",
      "execution_count": 7,
      "metadata": {
        "colab": {
          "base_uri": "https://localhost:8080/",
          "height": 423
        },
        "collapsed": true,
        "id": "uVNAQxmzyNs1",
        "outputId": "e9df21d7-788e-401e-8956-3ee62953b0c7"
      },
      "outputs": [
        {
          "data": {
            "text/plain": [
              "Index(['Cód.', 'Município', 'População (Pessoas)'], dtype='object')"
            ]
          },
          "execution_count": 7,
          "metadata": {},
          "output_type": "execute_result"
        }
      ],
      "source": [
        "df_pop.columns"
      ]
    },
    {
      "cell_type": "code",
      "execution_count": 8,
      "metadata": {
        "colab": {
          "base_uri": "https://localhost:8080/",
          "height": 597
        },
        "collapsed": true,
        "id": "Pzh5jSmUyb57",
        "outputId": "9d07e34c-60d3-4d68-8377-a92bf13dd960"
      },
      "outputs": [
        {
          "data": {
            "text/plain": [
              "Index(['UF', 'Nome_UF', 'Região Geográfica Intermediária',\n",
              "       'Nome Região Geográfica Intermediária', 'Região Geográfica Imediata',\n",
              "       'Nome Região Geográfica Imediata', 'Mesorregião Geográfica',\n",
              "       'Nome_Mesorregião', 'Microrregião Geográfica', 'Nome_Microrregião',\n",
              "       'Município', 'Código Município Completo', 'Nome_Município'],\n",
              "      dtype='object')"
            ]
          },
          "execution_count": 8,
          "metadata": {},
          "output_type": "execute_result"
        }
      ],
      "source": [
        "df_dtb.columns"
      ]
    },
    {
      "cell_type": "code",
      "execution_count": 9,
      "metadata": {
        "colab": {
          "base_uri": "https://localhost:8080/",
          "height": 458
        },
        "collapsed": true,
        "id": "LS4VWiDPx-a1",
        "outputId": "a1b85597-b497-4e43-9f76-cb06d179e460"
      },
      "outputs": [
        {
          "data": {
            "text/plain": [
              "Index(['Cód.', 'Município_x', 'PIB (Mil Reais)', 'Impostos (Mil Reais)',\n",
              "       'VA da agropecuária (Mil Reais)', 'VA da indústria (Mil Reais)',\n",
              "       'VA dos serviços (Mil Reais)',\n",
              "       'VA da administração pública (Mil Reais)', 'População (Pessoas)'],\n",
              "      dtype='object')"
            ]
          },
          "execution_count": 9,
          "metadata": {},
          "output_type": "execute_result"
        }
      ],
      "source": [
        "df_aux1 = pd.merge(df_pib,df_pop,how='outer',left_on='Cód.',right_on='Cód.')\n",
        "df_aux1 = df_aux1.drop(columns=['Município_y'])\n",
        "df_aux1.columns"
      ]
    },
    {
      "cell_type": "code",
      "execution_count": 10,
      "metadata": {
        "colab": {
          "base_uri": "https://localhost:8080/",
          "height": 669
        },
        "id": "SmNmtCRuym6D",
        "outputId": "20e607ec-3f02-4896-ecb3-649955ea9fff"
      },
      "outputs": [
        {
          "data": {
            "text/plain": [
              "Index(['Cód.', 'Município_x', 'PIB (Mil Reais)', 'Impostos (Mil Reais)',\n",
              "       'VA da agropecuária (Mil Reais)', 'VA da indústria (Mil Reais)',\n",
              "       'VA dos serviços (Mil Reais)',\n",
              "       'VA da administração pública (Mil Reais)', 'População (Pessoas)', 'UF',\n",
              "       'Nome_UF', 'Região Geográfica Intermediária',\n",
              "       'Nome Região Geográfica Intermediária', 'Região Geográfica Imediata',\n",
              "       'Nome Região Geográfica Imediata', 'Mesorregião Geográfica',\n",
              "       'Nome_Mesorregião', 'Microrregião Geográfica', 'Nome_Microrregião',\n",
              "       'Município', 'Código Município Completo', 'Nome_Município'],\n",
              "      dtype='object')"
            ]
          },
          "execution_count": 10,
          "metadata": {},
          "output_type": "execute_result"
        }
      ],
      "source": [
        "df_geral = pd.merge(df_aux1,df_dtb,how='left',left_on='Cód.',right_on='Código Município Completo')\n",
        "df_geral.columns"
      ]
    },
    {
      "cell_type": "code",
      "execution_count": null,
      "metadata": {
        "colab": {
          "base_uri": "https://localhost:8080/"
        },
        "id": "ld9gldW3yqkD",
        "outputId": "14c75633-cf7a-4879-dc7f-38910d7e4336"
      },
      "outputs": [],
      "source": [
        "df_geral.info()"
      ]
    },
    {
      "cell_type": "code",
      "execution_count": null,
      "metadata": {
        "colab": {
          "base_uri": "https://localhost:8080/"
        },
        "id": "u2d8IS8syv7p",
        "outputId": "c5d53128-6be8-48ed-b54b-31c4134a5b41"
      },
      "outputs": [],
      "source": [
        "uf_ne=['Alagoas','Bahia','Ceará','Maranhão','Paraíba','Pernambuco','Piauí','Rio Grande do Norte','Sergipe']\n",
        "df_nordeste = df_geral[df_geral['Nome_UF'].isin(uf_ne)]\n",
        "\n",
        "df_nordeste.info()"
      ]
    },
    {
      "cell_type": "code",
      "execution_count": null,
      "metadata": {
        "id": "Ru8eYuDcy3Oi"
      },
      "outputs": [],
      "source": [
        "df_nordeste = df_nordeste.drop(columns=['Código Município Completo'])"
      ]
    },
    {
      "cell_type": "markdown",
      "metadata": {
        "id": "zvwP0Y0brMLj"
      },
      "source": [
        "# Cálculo de variáveis auxiliares"
      ]
    },
    {
      "cell_type": "markdown",
      "metadata": {
        "id": "s5BHi8WDrit8"
      },
      "source": [
        "# Aplicação de medidas estatísticas"
      ]
    },
    {
      "cell_type": "markdown",
      "metadata": {},
      "source": [
        "**Cálculo do PIB per capita dos municípios do Nordeste em reais**"
      ]
    },
    {
      "cell_type": "code",
      "execution_count": null,
      "metadata": {},
      "outputs": [],
      "source": [
        "df_nordeste['PIB per capita'] = (df_nordeste['PIB (Mil Reais)'] * 1000) / df_nordeste['População (Pessoas)']\n",
        "\n",
        "df_nordeste.info()\n"
      ]
    },
    {
      "cell_type": "markdown",
      "metadata": {},
      "source": [
        "# Trecho para analise do perfil estrutural dos tops/Bottons municipios"
      ]
    },
    {
      "cell_type": "code",
      "execution_count": null,
      "metadata": {},
      "outputs": [],
      "source": [
        "\n",
        "import numpy as np\n",
        "import matplotlib.pyplot as plt"
      ]
    },
    {
      "cell_type": "code",
      "execution_count": null,
      "metadata": {},
      "outputs": [],
      "source": [
        "# Garantir que estamos trabalhando com uma cópia (opcional)\n",
        "dfn = df_nordeste.copy()\n",
        "\n",
        "# Filtrar linhas com PIB > 0 para evitar divisões problemáticas\n",
        "dfn = dfn[dfn['PIB (Mil Reais)'] > 0].copy()\n",
        "\n",
        "# Conferir se a coluna \"PIB per capita\" está numérica\n",
        "dfn['PIB per capita'] = pd.to_numeric(dfn['PIB per capita'], errors='coerce')\n",
        "\n",
        "\n"
      ]
    },
    {
      "cell_type": "code",
      "execution_count": null,
      "metadata": {},
      "outputs": [],
      "source": [
        "# Participações relativas por setor (% do PIB municipal)\n",
        "dfn['% Agro'] = (dfn['VA da agropecuária (Mil Reais)'] / dfn['PIB (Mil Reais)']) * 100\n",
        "dfn['% Indústria'] = (dfn['VA da indústria (Mil Reais)'] / dfn['PIB (Mil Reais)']) * 100\n",
        "dfn['% Serviços'] = (dfn['VA dos serviços (Mil Reais)'] / dfn['PIB (Mil Reais)']) * 100\n",
        "dfn['% Adm Pública'] = (dfn['VA da administração pública (Mil Reais)'] / dfn['PIB (Mil Reais)']) * 100\n",
        "\n",
        "# Opcional: HHI setorial (diversificação x concentração) — com shares em fração (0–1)\n",
        "shares = np.vstack([\n",
        "    (dfn['VA da agropecuária (Mil Reais)'] / dfn['PIB (Mil Reais)']).fillna(0).clip(0,1),\n",
        "    (dfn['VA da indústria (Mil Reais)'] / dfn['PIB (Mil Reais)']).fillna(0).clip(0,1),\n",
        "    (dfn['VA dos serviços (Mil Reais)'] / dfn['PIB (Mil Reais)']).fillna(0).clip(0,1),\n",
        "    (dfn['VA da administração pública (Mil Reais)'] / dfn['PIB (Mil Reais)']).fillna(0).clip(0,1),\n",
        "]).T\n",
        "dfn['HHI_setorial'] = (shares**2).sum(axis=1)"
      ]
    },
    {
      "cell_type": "code",
      "execution_count": null,
      "metadata": {},
      "outputs": [],
      "source": [
        "# Pelo VA em valores absolutos:\n",
        "setor_cols_val = [\n",
        "    'VA da agropecuária (Mil Reais)',\n",
        "    'VA da indústria (Mil Reais)',\n",
        "    'VA dos serviços (Mil Reais)',\n",
        "    'VA da administração pública (Mil Reais)'\n",
        "]\n",
        "dfn['Setor Predominante (VA)'] = dfn[setor_cols_val].idxmax(axis=1)\n",
        "\n",
        "# Ou, se preferir, pelo % do PIB (dá na mesma na prática):\n",
        "setor_cols_perc = ['% Agro', '% Indústria', '% Serviços', '% Adm Pública']\n",
        "dfn['Setor Predominante (%)'] = dfn[setor_cols_perc].idxmax(axis=1)\n",
        "\n",
        "# Distribuição geral (contagem)\n",
        "pred_count = dfn['Setor Predominante (%)'].value_counts()\n",
        "print(pred_count)"
      ]
    },
    {
      "cell_type": "code",
      "execution_count": null,
      "metadata": {},
      "outputs": [],
      "source": [
        "# Definição de TOP e BOTTOM por percentis de PIB per capita\n",
        "\n",
        "# Ex.: Top 5% mais ricos e Bottom 5% mais pobres em PIB per capita\n",
        "q_top = dfn['PIB per capita'].quantile(0.95)\n",
        "q_bot = dfn['PIB per capita'].quantile(0.05)\n",
        "\n",
        "top = dfn[dfn['PIB per capita'] >= q_top].copy()\n",
        "bot = dfn[dfn['PIB per capita'] <= q_bot].copy()\n",
        "\n",
        "len(top), len(bot), dfn.shape[0]\n",
        "TOP_K = 100\n",
        "BOT_K = 100\n",
        "top_k = dfn.sort_values('PIB per capita', ascending=False).head(TOP_K).copy()\n",
        "bot_k = dfn.sort_values('PIB per capita', ascending=True).head(BOT_K).copy()"
      ]
    },
    {
      "cell_type": "code",
      "execution_count": null,
      "metadata": {},
      "outputs": [],
      "source": [
        "# Perfis setoriais dos extremos (TOP x BOTTOM) e do GERAL\n",
        "\n",
        "def perfil_setorial(df_):\n",
        "    return pd.Series({\n",
        "        'Agro (%)': df_['% Agro'].mean(),\n",
        "        'Indústria (%)': df_['% Indústria'].mean(),\n",
        "        'Serviços (%)': df_['% Serviços'].mean(),\n",
        "        'Adm Pública (%)': df_['% Adm Pública'].mean(),\n",
        "        'HHI médio': df_['HHI_setorial'].mean(),\n",
        "        'PIB pc médio (R$)': df_['PIB per capita'].mean(),\n",
        "        'PIB pc mediano (R$)': df_['PIB per capita'].median(),\n",
        "        'N municípios': len(df_)\n",
        "    })\n",
        "\n",
        "perfil_top = perfil_setorial(top)\n",
        "perfil_bot = perfil_setorial(bot)\n",
        "perfil_all = perfil_setorial(dfn)\n",
        "\n",
        "perf_is = pd.DataFrame([perfil_top, perfil_bot, perfil_all], index=['TOP (≥95%)','BOTTOM (≤5%)','GERAL'])\n",
        "perf_is"
      ]
    },
    {
      "cell_type": "markdown",
      "metadata": {},
      "source": [
        "Leitura esperada:\n",
        "\n",
        "TOP: % Indústria e % Serviços maiores, % Adm Pública menor, HHI pode ser alto (quando um setor domina), mas normalmente com base privada.\n",
        "\n",
        "BOTTOM: % Adm Pública alto, agro relevante, PIB pc baixo; HHI alto indica dependência de 1 setor."
      ]
    },
    {
      "cell_type": "code",
      "execution_count": null,
      "metadata": {},
      "outputs": [],
      "source": [
        "def contagem_predominante(df_):\n",
        "    cont = df_['Setor Predominante (%)'].value_counts().reindex(['% Indústria','% Serviços','% Agro','% Adm Pública'])\n",
        "    return cont.fillna(0).astype(int)\n",
        "\n",
        "cont_top = contagem_predominante(top).rename('TOP (≥95%)')\n",
        "cont_bot = contagem_predominante(bot).rename('BOTTOM (≤5%)')\n",
        "cont_all = contagem_predominante(dfn).rename('GERAL')\n",
        "\n",
        "pred_resumo = pd.concat([cont_top, cont_bot, cont_all], axis=1)\n",
        "pred_resumo"
      ]
    },
    {
      "cell_type": "code",
      "execution_count": null,
      "metadata": {},
      "outputs": [],
      "source": [
        "# Gráficos comparando perfis\n",
        "\n",
        "# Tabela só com os 4 setores (%)\n",
        "plot_df = perf_is[['Agro (%)','Indústria (%)','Serviços (%)','Adm Pública (%)']].copy()\n",
        "\n",
        "plt.figure()\n",
        "plot_df.T.plot(kind='bar')\n",
        "plt.title('Perfil Setorial Médio — TOP (≥95%) x BOTTOM (≤5%) x GERAL')\n",
        "plt.xlabel('Setor')\n",
        "plt.ylabel('Participação média no PIB (%)')\n",
        "plt.xticks(rotation=0)\n",
        "plt.legend(title='')\n",
        "plt.show()"
      ]
    },
    {
      "cell_type": "code",
      "execution_count": null,
      "metadata": {},
      "outputs": [],
      "source": [
        "# Barras — setor predominante (contagens)\n",
        "\n",
        "plt.figure()\n",
        "pred_resumo.plot(kind='bar')\n",
        "plt.title('Setor Predominante — Contagem de Municípios (TOP x BOTTOM x GERAL)')\n",
        "plt.xlabel('Setor predominante')\n",
        "plt.ylabel('Qtde de municípios')\n",
        "plt.xticks(rotation=45, ha='right')\n",
        "plt.legend(title='')\n",
        "plt.tight_layout()\n",
        "plt.show()"
      ]
    },
    {
      "cell_type": "code",
      "execution_count": null,
      "metadata": {},
      "outputs": [],
      "source": [
        "# Plot básico\n",
        "ax = pred_resumo.plot(kind='bar')\n",
        "plt.title('Setor Predominante — Contagem de Municípios (TOP x BOTTOM x GERAL)')\n",
        "plt.xlabel('Setor predominante')\n",
        "plt.ylabel('Qtde de municípios')\n",
        "plt.xticks(rotation=45, ha='right')\n",
        "plt.legend(title='')\n",
        "plt.tight_layout()\n",
        "\n",
        "# Adicionar rótulos com percentual\n",
        "for container, col in zip(ax.containers, pred_resumo.columns):\n",
        "    total = pred_resumo[col].sum()\n",
        "    for bar in container:\n",
        "        height = bar.get_height()\n",
        "        if height > 0:\n",
        "            perc = (height / total) * 100\n",
        "            ax.text(\n",
        "                bar.get_x() + bar.get_width() / 2,   # posição x central\n",
        "                height,                              # posição y logo acima da barra\n",
        "                f'{perc:.1f}%',                      # formatação percentual\n",
        "                ha='center', va='bottom', fontsize=8\n",
        "            )\n",
        "\n",
        "plt.show()"
      ]
    },
    {
      "cell_type": "code",
      "execution_count": null,
      "metadata": {},
      "outputs": [],
      "source": [
        "# Listas dos casos extremos (para “dar nome aos bois” no relatório)\n",
        "\n",
        "# TOP 15 com setor predominante e %Adm\n",
        "cols_show = ['Nome_UF','Nome_Município','PIB per capita','% Agro','% Indústria','% Serviços','% Adm Pública','Setor Predominante (%)']\n",
        "top_list = dfn.sort_values('PIB per capita', ascending=False).head(15)[cols_show]\n",
        "bot_list = dfn.sort_values('PIB per capita', ascending=True).head(15)[cols_show]\n",
        "\n",
        "top_list, bot_list"
      ]
    },
    {
      "cell_type": "markdown",
      "metadata": {},
      "source": []
    },
    {
      "cell_type": "code",
      "execution_count": null,
      "metadata": {},
      "outputs": [],
      "source": [
        "\n",
        "# Copia do dataset\n",
        "dfn = df_nordeste.copy()\n",
        "\n",
        "# Filtro para um estado (ex.: Bahia)\n",
        "estado = \"Maranhão\"\n",
        "df_estado = dfn[dfn[\"Nome_UF\"] == estado].copy()\n",
        "\n",
        "# Garante que os valores sejam numéricos\n",
        "num_cols = [\n",
        "    'PIB (Mil Reais)', 'População (Pessoas)',\n",
        "    'VA da agropecuária (Mil Reais)', 'VA da indústria (Mil Reais)',\n",
        "    'VA dos serviços (Mil Reais)', 'VA da administração pública (Mil Reais)'\n",
        "]\n",
        "for c in num_cols:\n",
        "    df_estado[c] = pd.to_numeric(df_estado[c], errors='coerce')\n",
        "\n",
        "# Se ainda não tiver coluna de setor predominante, calcula\n",
        "setor_cols = [\n",
        "    'VA da agropecuária (Mil Reais)',\n",
        "    'VA da indústria (Mil Reais)',\n",
        "    'VA dos serviços (Mil Reais)',\n",
        "    'VA da administração pública (Mil Reais)'\n",
        "]\n",
        "if 'Setor Predominante (VA)' not in df_estado.columns:\n",
        "    df_estado['Setor Predominante (VA)'] = df_estado[setor_cols].idxmax(axis=1)\n",
        "\n",
        "# Prepara o dataset\n",
        "plot_df = df_estado[['População (Pessoas)', 'PIB (Mil Reais)', 'Setor Predominante (VA)']].dropna()\n",
        "\n",
        "# --- Gráfico linear ---\n",
        "plt.figure()\n",
        "for cat in sorted(plot_df['Setor Predominante (VA)'].unique()):\n",
        "    sub = plot_df[plot_df['Setor Predominante (VA)'] == cat]\n",
        "    plt.scatter(sub['População (Pessoas)'], sub['PIB (Mil Reais)'], label=cat, s=20)\n",
        "\n",
        "plt.title(f'População x PIB — {estado} (por Setor Predominante)')\n",
        "plt.xlabel('População (pessoas)')\n",
        "plt.ylabel('PIB (Mil R$)')\n",
        "plt.legend(title='Setor Predominante', markerscale=1.5)\n",
        "plt.tight_layout()\n",
        "plt.show()\n",
        "\n",
        "# --- Gráfico em escala log ---\n",
        "plt.figure()\n",
        "for cat in sorted(plot_df['Setor Predominante (VA)'].unique()):\n",
        "    sub = plot_df[plot_df['Setor Predominante (VA)'] == cat]\n",
        "    plt.scatter(sub['População (Pessoas)'], sub['PIB (Mil Reais)'], label=cat, s=20)\n",
        "\n",
        "plt.xscale('log')\n",
        "plt.yscale('log')\n",
        "plt.title(f'População x PIB (escala log) — {estado}')\n",
        "plt.xlabel('População (pessoas) [log]')\n",
        "plt.ylabel('PIB (Mil R$) [log]')\n",
        "plt.legend(title='Setor Predominante', markerscale=1.5)\n",
        "plt.tight_layout()\n",
        "plt.show()\n",
        "\n"
      ]
    },
    {
      "cell_type": "code",
      "execution_count": null,
      "metadata": {},
      "outputs": [],
      "source": [
        "\n",
        "# Copia do dataset\n",
        "dfn = df_nordeste.copy()\n",
        "\n",
        "# Filtro para um estado (ex.: Bahia)\n",
        "estado = \"Piauí\"\n",
        "df_estado = dfn[dfn[\"Nome_UF\"] == estado].copy()\n",
        "\n",
        "# Garante que os valores sejam numéricos\n",
        "num_cols = [\n",
        "    'PIB per capita', 'População (Pessoas)',\n",
        "    'VA da agropecuária (Mil Reais)', 'VA da indústria (Mil Reais)',\n",
        "    'VA dos serviços (Mil Reais)', 'VA da administração pública (Mil Reais)'\n",
        "]\n",
        "for c in num_cols:\n",
        "    df_estado[c] = pd.to_numeric(df_estado[c], errors='coerce')\n",
        "\n",
        "# Se ainda não tiver coluna de setor predominante, calcula\n",
        "setor_cols = [\n",
        "    'VA da agropecuária (Mil Reais)',\n",
        "    'VA da indústria (Mil Reais)',\n",
        "    'VA dos serviços (Mil Reais)',\n",
        "    'VA da administração pública (Mil Reais)'\n",
        "]\n",
        "if 'Setor Predominante (VA)' not in df_estado.columns:\n",
        "    df_estado['Setor Predominante (VA)'] = df_estado[setor_cols].idxmax(axis=1)\n",
        "\n",
        "# Prepara o dataset\n",
        "plot_df = df_estado[['População (Pessoas)', 'PIB per capita', 'Setor Predominante (VA)']].dropna()\n",
        "\n",
        "# --- Gráfico linear ---\n",
        "plt.figure()\n",
        "for cat in sorted(plot_df['Setor Predominante (VA)'].unique()):\n",
        "    sub = plot_df[plot_df['Setor Predominante (VA)'] == cat]\n",
        "    plt.scatter(sub['População (Pessoas)'], sub['PIB per capita'], label=cat, s=20)\n",
        "\n",
        "plt.title(f'População x PIB — {estado} (por Setor Predominante)')\n",
        "plt.xlabel('População (pessoas)')\n",
        "plt.ylabel('PIB per capita')\n",
        "plt.legend(title='Setor Predominante', markerscale=1.5)\n",
        "plt.tight_layout()\n",
        "plt.show()\n",
        "\n",
        "# --- Gráfico em escala log ---\n",
        "plt.figure()\n",
        "for cat in sorted(plot_df['Setor Predominante (VA)'].unique()):\n",
        "    sub = plot_df[plot_df['Setor Predominante (VA)'] == cat]\n",
        "    plt.scatter(sub['População (Pessoas)'], sub['PIB per capita'], label=cat, s=20)\n",
        "\n",
        "plt.xscale('log')\n",
        "plt.yscale('log')\n",
        "plt.title(f'População x PIB (escala log) — {estado}')\n",
        "plt.xlabel('População (pessoas) [log]')\n",
        "plt.ylabel('PIB per capita [log]')\n",
        "plt.legend(title='Setor Predominante', markerscale=1.5)\n",
        "plt.tight_layout()\n",
        "plt.show()\n"
      ]
    },
    {
      "cell_type": "markdown",
      "metadata": {},
      "source": [
        "## mapa de correlação (heatmap da matriz de correlação)"
      ]
    },
    {
      "cell_type": "code",
      "execution_count": null,
      "metadata": {},
      "outputs": [
        {
          "ename": "NameError",
          "evalue": "name 'df_nordeste' is not defined",
          "output_type": "error",
          "traceback": [
            "\u001b[31m---------------------------------------------------------------------------\u001b[39m",
            "\u001b[31mNameError\u001b[39m                                 Traceback (most recent call last)",
            "\u001b[36mCell\u001b[39m\u001b[36m \u001b[39m\u001b[32mIn[2]\u001b[39m\u001b[32m, line 8\u001b[39m\n\u001b[32m      1\u001b[39m \u001b[38;5;66;03m# Seleciona apenas colunas numéricas de interesse\u001b[39;00m\n\u001b[32m      2\u001b[39m cols_corr = [\n\u001b[32m      3\u001b[39m     \u001b[33m'\u001b[39m\u001b[33mPIB (Mil Reais)\u001b[39m\u001b[33m'\u001b[39m, \u001b[33m'\u001b[39m\u001b[33mPopulação (Pessoas)\u001b[39m\u001b[33m'\u001b[39m, \u001b[33m'\u001b[39m\u001b[33mPIB per capita\u001b[39m\u001b[33m'\u001b[39m,\n\u001b[32m      4\u001b[39m     \u001b[33m'\u001b[39m\u001b[33mVA da agropecuária (Mil Reais)\u001b[39m\u001b[33m'\u001b[39m, \u001b[33m'\u001b[39m\u001b[33mVA da indústria (Mil Reais)\u001b[39m\u001b[33m'\u001b[39m,\n\u001b[32m      5\u001b[39m     \u001b[33m'\u001b[39m\u001b[33mVA dos serviços (Mil Reais)\u001b[39m\u001b[33m'\u001b[39m, \u001b[33m'\u001b[39m\u001b[33mVA da administração pública (Mil Reais)\u001b[39m\u001b[33m'\u001b[39m,\n\u001b[32m      6\u001b[39m     \u001b[33m'\u001b[39m\u001b[33mImpostos (Mil Reais)\u001b[39m\u001b[33m'\u001b[39m\n\u001b[32m      7\u001b[39m ]\n\u001b[32m----> \u001b[39m\u001b[32m8\u001b[39m corr = \u001b[43mdf_nordeste\u001b[49m[cols_corr].corr()\n\u001b[32m     10\u001b[39m \u001b[38;5;66;03m# Plot do mapa de correlação\u001b[39;00m\n\u001b[32m     11\u001b[39m fig, ax = plt.subplots(figsize=(\u001b[32m8\u001b[39m,\u001b[32m6\u001b[39m))\n",
            "\u001b[31mNameError\u001b[39m: name 'df_nordeste' is not defined"
          ]
        }
      ],
      "source": [
        "\n",
        "# Seleciona apenas colunas numéricas de interesse\n",
        "cols_corr = [\n",
        "    'PIB (Mil Reais)', 'População (Pessoas)', 'PIB per capita',\n",
        "    'VA da agropecuária (Mil Reais)', 'VA da indústria (Mil Reais)',\n",
        "    'VA dos serviços (Mil Reais)', 'VA da administração pública (Mil Reais)',\n",
        "    'Impostos (Mil Reais)'\n",
        "]\n",
        "corr = df_nordeste[cols_corr].corr()\n",
        "\n",
        "# Plot do mapa de correlação\n",
        "fig, ax = plt.subplots(figsize=(8,6))\n",
        "cax = ax.matshow(corr, cmap='coolwarm', vmin=-1, vmax=1)\n",
        "\n",
        "# Adiciona barra de cores\n",
        "fig.colorbar(cax)\n",
        "\n",
        "# Eixos\n",
        "ax.set_xticks(range(len(cols_corr)))\n",
        "ax.set_yticks(range(len(cols_corr)))\n",
        "ax.set_xticklabels(cols_corr, rotation=90, fontsize=8)\n",
        "ax.set_yticklabels(cols_corr, fontsize=8)\n",
        "\n",
        "# Adiciona os valores de correlação na matriz\n",
        "for (i, j), val in np.ndenumerate(corr.values):\n",
        "    ax.text(j, i, f\"{val:.2f}\", ha='center', va='center', color='black', fontsize=7)\n",
        "\n",
        "plt.title(\"Mapa de Correlação — Variáveis Econômicas\", pad=20)\n",
        "plt.tight_layout()\n",
        "plt.show()\n"
      ]
    },
    {
      "cell_type": "markdown",
      "metadata": {},
      "source": [
        "Correlação por estado"
      ]
    },
    {
      "cell_type": "code",
      "execution_count": null,
      "metadata": {},
      "outputs": [],
      "source": [
        "\n",
        "# --- Defina aqui o estado desejado ---\n",
        "estado = \"Bahia\"   # troque para \"Pernambuco\", \"Ceará\", etc.\n",
        "\n",
        "# Filtra os dados do estado\n",
        "df_estado = df_nordeste[df_nordeste[\"Nome_UF\"] == estado].copy()\n",
        "\n",
        "# Seleciona apenas colunas numéricas de interesse\n",
        "cols_corr = [\n",
        "    'PIB (Mil Reais)', 'População (Pessoas)', 'PIB per capita',\n",
        "    'VA da agropecuária (Mil Reais)', 'VA da indústria (Mil Reais)',\n",
        "    'VA dos serviços (Mil Reais)', 'VA da administração pública (Mil Reais)',\n",
        "    'Impostos (Mil Reais)'\n",
        "]\n",
        "corr = df_estado[cols_corr].corr()\n",
        "\n",
        "# Plot do mapa de correlação\n",
        "fig, ax = plt.subplots(figsize=(8,6))\n",
        "cax = ax.imshow(\n",
        "    corr, \n",
        "    cmap='coolwarm', \n",
        "    vmin=-1, vmax=1, \n",
        "    aspect=\"equal\", \n",
        "    interpolation=\"nearest\"   # evita linhas artificiais\n",
        ")\n",
        "\n",
        "fig.colorbar(cax)\n",
        "\n",
        "# Eixos\n",
        "ax.set_xticks(range(len(cols_corr)))\n",
        "ax.set_yticks(range(len(cols_corr)))\n",
        "ax.set_xticklabels(cols_corr, rotation=90, fontsize=8)\n",
        "ax.set_yticklabels(cols_corr, fontsize=8)\n",
        "\n",
        "# Valores na matriz\n",
        "for (i, j), val in np.ndenumerate(corr.values):\n",
        "    ax.text(j, i, f\"{val:.2f}\", ha='center', va='center', color='black', fontsize=7)\n",
        "\n",
        "plt.title(f\"Mapa de Correlação — {estado}\", pad=20)\n",
        "plt.tight_layout()\n",
        "plt.show()\n"
      ]
    },
    {
      "cell_type": "markdown",
      "metadata": {},
      "source": [
        "JOIN com o mapa"
      ]
    },
    {
      "cell_type": "code",
      "execution_count": null,
      "metadata": {},
      "outputs": [],
      "source": [
        "\n",
        "#df_mun\n",
        " #Cód.\n",
        "# CD_GEOCODI\n",
        "\n",
        "df_nordeste_cm = df_nordeste.copy()\n",
        "\n",
        "df_nordeste[\"Cód.\"] = df_nordeste[\"Cód.\"].astype(int)\n",
        "df_mun[\"CD_GEOCODI\"] = df_mun[\"CD_GEOCODI\"].astype(int)\n",
        "\n",
        "df_nordeste_cm = df_nordeste.merge(\n",
        "    df_mun[[\"CD_GEOCODI\", \"geometry\"]],   # pega só as colunas necessárias\n",
        "    left_on=\"Cód.\",\n",
        "    right_on=\"CD_GEOCODI\",\n",
        "    how=\"inner\"\n",
        ")\n",
        "\n",
        "# Recria como GeoDataFrame\n",
        "df_nordeste_cm = gpd.GeoDataFrame(df_nordeste_cm, geometry=\"geometry\", crs=df_mun.crs)\n",
        "df_nordeste_cm.columns\n",
        "\n",
        "\n"
      ]
    },
    {
      "cell_type": "code",
      "execution_count": null,
      "metadata": {},
      "outputs": [],
      "source": [
        "df_mun['UF'] = (df_nordeste_cm['Cód.'].astype(int)/10000).astype(int)"
      ]
    },
    {
      "cell_type": "code",
      "execution_count": null,
      "metadata": {},
      "outputs": [],
      "source": [
        "df_nordeste_cm.plot(column = 'UF',cmap='jet',linewidth=0)\n",
        "df_nordeste_cm.columns"
      ]
    },
    {
      "cell_type": "code",
      "execution_count": null,
      "metadata": {},
      "outputs": [],
      "source": [
        "df_nordeste_cm.columns"
      ]
    },
    {
      "cell_type": "code",
      "execution_count": null,
      "metadata": {},
      "outputs": [],
      "source": [
        "estado = \"Bahia\"\n",
        "\n",
        "# 1) Filtrar Bahia (use a coluna que você tiver: 'uf' == 'BA' ou 'Nome_UF' == 'Bahia')\n",
        "gdf_ba = df_nordeste_cm[df_nordeste_cm['UF'].eq(estado) | df_nordeste_cm['Nome_UF'].eq(estado)]\n",
        "\n",
        "# 2) Garantir que é GeoDataFrame e herdar o CRS do original\n",
        "gdf_ba = gpd.GeoDataFrame(gdf_ba, geometry='geometry', crs=df_nordeste_cm.crs)\n",
        "\n",
        "# 3) Escolher a métrica de cor:\n",
        "#    - Total do PIB (em \"Mil Reais\"): 'PIB (Mil Reais)'\n",
        "#    - Ou PIB per capita: 'PIB per capita'\n",
        "coluna_pib = 'População (Pessoas)'          # troque para 'PIB per capita' se preferir\n",
        "\n",
        "# 4) Plot (com classes e legenda):\n",
        "ax = gdf_ba.plot(\n",
        "    column=coluna_pib,\n",
        "    cmap='viridis',\n",
        "    scheme='Quantiles',\n",
        "    k=10,\n",
        "    linewidth=0.3,\n",
        "    edgecolor='black',\n",
        "    legend=True,\n",
        "    figsize=(9, 9),\n",
        "    legend_kwds={\n",
        "        \"loc\": \"lower left\",   # pode ser 'upper right', 'center left', etc.\n",
        "        \"fontsize\": 8\n",
        "    }\n",
        ")\n",
        "plt.subplots_adjust(right=0.85)\n",
        "\n",
        "ax.set_title(f'{estado} — {coluna_pib}', fontsize=12)\n",
        "ax.set_axis_off()\n",
        "plt.tight_layout()\n",
        "plt.show()\n",
        "\n",
        "coluna_pib = 'PIB (Mil Reais)'          # troque para 'PIB per capita' se preferir\n",
        "\n",
        "# 4) Plot (com classes e legenda):\n",
        "ax = gdf_ba.plot(\n",
        "    column=coluna_pib,\n",
        "    cmap='inferno',\n",
        "    scheme='Quantiles',\n",
        "    k=10,\n",
        "    linewidth=0.3,\n",
        "    edgecolor='black',\n",
        "    legend=True,\n",
        "    figsize=(9, 9),\n",
        "    legend_kwds={\n",
        "        \"loc\": \"lower left\",   # pode ser 'upper right', 'center left', etc.\n",
        "        \"fontsize\": 8\n",
        "    }\n",
        ")\n",
        "plt.subplots_adjust(right=0.85)\n",
        "\n",
        "ax.set_title(f'{estado} — {coluna_pib}', fontsize=12)\n",
        "ax.set_axis_off()\n",
        "plt.tight_layout()\n",
        "plt.show()"
      ]
    },
    {
      "cell_type": "code",
      "execution_count": null,
      "metadata": {},
      "outputs": [],
      "source": [
        "\n",
        "# 1) Filtrar Bahia (use a coluna que você tiver: 'uf' == 'BA' ou 'Nome_UF' == 'Bahia')\n",
        "gdf_ba = df_nordeste_cm\n",
        "\n",
        "# 2) Garantir que é GeoDataFrame e herdar o CRS do original\n",
        "gdf_ba = gpd.GeoDataFrame(gdf_ba, geometry='geometry', crs=df_nordeste_cm.crs)\n",
        "\n",
        "# 3) Escolher a métrica de cor:\n",
        "#    - Total do PIB (em \"Mil Reais\"): 'PIB (Mil Reais)'\n",
        "#    - Ou PIB per capita: 'PIB per capita'\n",
        "coluna_pib = 'PIB per capita'          # troque para 'PIB per capita' se preferir\n",
        "\n",
        "# 4) Plot (com classes e legenda):\n",
        "ax = gdf_ba.plot(\n",
        "    column=coluna_pib,\n",
        "    cmap='viridis',\n",
        "    scheme='Quantiles',\n",
        "    k=10,\n",
        "    linewidth=0.3,\n",
        "    edgecolor='black',\n",
        "    legend=True,\n",
        "    figsize=(9, 9),\n",
        "    legend_kwds={\n",
        "        \"loc\": \"lower left\",   # pode ser 'upper right', 'center left', etc.\n",
        "        \"fontsize\": 8\n",
        "    }\n",
        ")\n",
        "plt.subplots_adjust(right=0.85)\n",
        "\n",
        "ax.set_title(f'Nordeste — {coluna_pib}', fontsize=12)\n",
        "ax.set_axis_off()\n",
        "plt.tight_layout()\n",
        "plt.show()"
      ]
    },
    {
      "cell_type": "code",
      "execution_count": null,
      "metadata": {},
      "outputs": [],
      "source": [
        "df_nordeste_cm.columns"
      ]
    },
    {
      "cell_type": "code",
      "execution_count": null,
      "metadata": {},
      "outputs": [],
      "source": [
        "import numpy as np\n",
        "import pandas as pd\n",
        "import geopandas as gpd\n",
        "import matplotlib.pyplot as plt\n",
        "\n",
        "# =========================\n",
        "# Configurações de entrada\n",
        "# =========================\n",
        "#coluna = 'População (Pessoas)'\n",
        "#coluna = 'PIB (Mil Reais)'\n",
        "coluna = 'PIB per capita'\n",
        "\n",
        "\n",
        "# =========================\n",
        "# Preparação segura do dado\n",
        "# =========================\n",
        "gdf_ba = gpd.GeoDataFrame(df_nordeste_cm, geometry='geometry', crs=getattr(df_nordeste_cm, 'crs', None)).copy()\n",
        "\n",
        "# Nome da coluna de UF: padronize aqui\n",
        "COL_UF = 'UF'  # <-- ajuste para 'UF' se seu dataframe usa maiúsculas\n",
        "\n",
        "if COL_UF not in gdf_ba.columns:\n",
        "    raise KeyError(f\"Coluna de UF '{COL_UF}' não encontrada. Colunas disponíveis: {list(gdf_ba.columns)}\")\n",
        "\n",
        "# Limpa geometrias problemáticas\n",
        "gdf_ba = gdf_ba[gdf_ba.geometry.notna() & ~gdf_ba.geometry.is_empty].copy()\n",
        "\n",
        "# Corrige geometrias inválidas\n",
        "if hasattr(gdf_ba.geometry, \"make_valid\"):\n",
        "    gdf_ba[\"geometry\"] = gdf_ba.geometry.make_valid()\n",
        "else:\n",
        "    gdf_ba[\"geometry\"] = gdf_ba.buffer(0)\n",
        "\n",
        "# Coerção numérica\n",
        "vals = pd.to_numeric(gdf_ba[coluna], errors=\"coerce\").replace([np.inf, -np.inf], np.nan)\n",
        "gdf_ba = gdf_ba[vals.notna()].copy()\n",
        "\n",
        "# Se ainda vazio, pare cedo\n",
        "if gdf_ba.empty:\n",
        "    raise ValueError(\"Depois das coerções, não restou nenhum município com valor numérico para a coluna escolhida.\")\n",
        "\n",
        "# Define CRS caso esteja ausente e reprojeta para métrico (recomendado p/ plot estável)\n",
        "if gdf_ba.crs is None:\n",
        "    # suposição comum: dados em 4674; ajuste se necessário\n",
        "    gdf_ba.set_crs(epsg=4674, inplace=True)\n",
        "\n",
        "gdf_ba = gdf_ba.to_crs(3857)  # Web Mercator deixa os limites em metros e estáveis\n",
        "\n",
        "# Bounds válidos?\n",
        "xmin, ymin, xmax, ymax = gdf_ba.total_bounds\n",
        "if not np.isfinite([xmin, ymin, xmax, ymax]).all() or xmin == xmax or ymin == ymax:\n",
        "    raise ValueError(\"Limites espaciais inválidos mesmo após reprojeção. Verifique CRS/geometrias.\")\n",
        "\n",
        "# =========================\n",
        "# Dissolve por estado\n",
        "# =========================\n",
        "gdf_estados = gdf_ba[[COL_UF, 'geometry']].dissolve(by=COL_UF, as_index=False)\n",
        "\n",
        "if gdf_estados.empty:\n",
        "    raise ValueError(\"O dissolve por UF não retornou geometrias. Verifique a coluna de UF e os dados.\")\n",
        "\n",
        "# =========================\n",
        "# Plot\n",
        "# =========================\n",
        "fig, ax = plt.subplots(figsize=(9, 9))\n",
        "\n",
        "# Defina os limites explicitamente antes do plot (ajuda o Matplotlib)\n",
        "ax.set_xlim(xmin, xmax)\n",
        "ax.set_ylim(ymin, ymax)\n",
        "\n",
        "# Force 'auto' primeiro (evita o erro de aspecto)\n",
        "ax.set_aspect('auto')\n",
        "\n",
        "# Choropleth\n",
        "gdf_ba.plot(\n",
        "    column=coluna,\n",
        "    cmap='inferno',\n",
        "    scheme='Quantiles',  # requer mapclassify; remova se não quiser classes\n",
        "    k=10,\n",
        "    linewidth=0.3,\n",
        "    edgecolor='black',\n",
        "    legend=True,\n",
        "    ax=ax,\n",
        "    legend_kwds={\"loc\": \"lower left\", \"fontsize\": 8}\n",
        ")\n",
        "\n",
        "# Contorno dos estados (use a mesma coluna de UF)\n",
        "gdf_estados.boundary.plot(ax=ax, color='white', linewidth=1.5, zorder=3)\n",
        "\n",
        "# Exemplo: destacar BA (ajuste o código conforme COL_UF)\n",
        "gdf_estados.loc[gdf_estados[COL_UF].eq('BA')].boundary.plot(\n",
        "    ax=ax, color='red', linewidth=2.2, zorder=4\n",
        ")\n",
        "\n",
        "ax.set_title(f'Nordeste — {coluna}', fontsize=12)\n",
        "ax.set_axis_off()\n",
        "plt.tight_layout()\n",
        "plt.show()\n"
      ]
    },
    {
      "cell_type": "code",
      "execution_count": null,
      "metadata": {},
      "outputs": [],
      "source": [
        "import numpy as np\n",
        "import pandas as pd\n",
        "import geopandas as gpd\n",
        "import matplotlib.pyplot as plt\n",
        "from matplotlib.colors import ListedColormap\n",
        "\n",
        "# =========================\n",
        "# 1) Base: seu GeoDataFrame\n",
        "# =========================\n",
        "gdf = gpd.GeoDataFrame(df_nordeste_cm, geometry='geometry', crs=getattr(df_nordeste_cm, 'crs', None)).copy()\n",
        "\n",
        "# Colunas de Valor Adicionado\n",
        "COLS_VA = [\n",
        "    'VA da agropecuária (Mil Reais)',\n",
        "    'VA da indústria (Mil Reais)',\n",
        "    'VA dos serviços (Mil Reais)',\n",
        "    'VA da administração pública (Mil Reais)',\n",
        "]\n",
        "\n",
        "# Conferências rápidas\n",
        "for c in COLS_VA + ['UF', 'geometry']:\n",
        "    if c not in gdf.columns:\n",
        "        raise KeyError(f\"Coluna obrigatória ausente: {c}\")\n",
        "\n",
        "# =========================\n",
        "# 2) Limpeza e CRS\n",
        "# =========================\n",
        "gdf = gdf[gdf.geometry.notna() & ~gdf.geometry.is_empty].copy()\n",
        "\n",
        "# Corrigir geometrias inválidas\n",
        "if hasattr(gdf.geometry, \"make_valid\"):\n",
        "    gdf['geometry'] = gdf.geometry.make_valid()\n",
        "else:\n",
        "    gdf['geometry'] = gdf.buffer(0)\n",
        "\n",
        "# Definir CRS se vier sem\n",
        "if gdf.crs is None:\n",
        "    gdf = gdf.set_crs(epsg=4674)\n",
        "\n",
        "# Reprojetar para 3857 (plot estável)\n",
        "gdf = gdf.to_crs(3857)\n",
        "\n",
        "# =========================\n",
        "# 3) VA predominante\n",
        "# =========================\n",
        "for c in COLS_VA:\n",
        "    gdf[c] = pd.to_numeric(gdf[c], errors='coerce')\n",
        "\n",
        "idx = gdf[COLS_VA].idxmax(axis=1)\n",
        "\n",
        "MAP_RÓTULO = {\n",
        "    'VA da agropecuária (Mil Reais)': 'Agropecuária',\n",
        "    'VA da indústria (Mil Reais)': 'Indústria',\n",
        "    'VA dos serviços (Mil Reais)': 'Serviços',\n",
        "    'VA da administração pública (Mil Reais)': 'Administração pública',\n",
        "}\n",
        "gdf['VA_predominante'] = idx.map(MAP_RÓTULO)\n",
        "\n",
        "ordem = ['Agropecuária', 'Indústria', 'Serviços', 'Administração pública']\n",
        "gdf['VA_predominante'] = pd.Categorical(gdf['VA_predominante'], categories=ordem, ordered=True)\n",
        "\n",
        "# Paleta fixa\n",
        "cores = {\n",
        "    'Agropecuária':        '#66c2a5',\n",
        "    'Indústria':           '#dd2b2b',\n",
        "    'Serviços':            \"#fca062\",\n",
        "    'Administração pública':\"#989898\",\n",
        "}\n",
        "cmap = ListedColormap([cores[c] for c in ordem])\n",
        "\n",
        "# =========================\n",
        "# 4) Polígonos dos estados\n",
        "# =========================\n",
        "estados = gdf[['UF', 'geometry']].dissolve(by='UF', as_index=False)\n",
        "\n",
        "# =========================\n",
        "# 5) Plot\n",
        "# =========================\n",
        "xmin, ymin, xmax, ymax = gdf.total_bounds\n",
        "fig, ax = plt.subplots(figsize=(10, 12))\n",
        "\n",
        "ax.set_xlim(xmin, xmax)\n",
        "ax.set_ylim(ymin, ymax)\n",
        "ax.set_aspect('auto')\n",
        "\n",
        "# Mapa categórico com legenda automática\n",
        "gdf.plot(\n",
        "    ax=ax,\n",
        "    column='VA_predominante',\n",
        "    categorical=True,\n",
        "    cmap=cmap,\n",
        "    legend=True,\n",
        "    legend_kwds={'loc': 'lower left', 'title': 'VA predominante'},\n",
        "    linewidth=0.2,\n",
        "    edgecolor='#cccccc'\n",
        ")\n",
        "\n",
        "# Contorno grosso dos estados\n",
        "estados.boundary.plot(ax=ax, linewidth=2.2, color='black', zorder=3)\n",
        "\n",
        "ax.set_title('Nordeste — Valor Adicionado (VA) predominante por município', loc='left', fontsize=12)\n",
        "ax.set_axis_off()\n",
        "plt.tight_layout()\n",
        "plt.show()\n",
        "\n"
      ]
    },
    {
      "cell_type": "markdown",
      "metadata": {},
      "source": [
        "# Fim da analise de perfil"
      ]
    },
    {
      "cell_type": "code",
      "execution_count": null,
      "metadata": {
        "colab": {
          "base_uri": "https://localhost:8080/"
        },
        "id": "RAjHPLjKzF6V",
        "outputId": "442267d0-048e-4092-8f47-f54149f4797b"
      },
      "outputs": [],
      "source": [
        "df_nordeste_teste = df_nordeste.groupby(['Nome_UF'])['PIB per capita']"
      ]
    },
    {
      "cell_type": "code",
      "execution_count": null,
      "metadata": {
        "colab": {
          "base_uri": "https://localhost:8080/",
          "height": 363
        },
        "id": "MB7IYe0y4Ev1",
        "outputId": "ed68844b-e71a-47e2-9b5c-386dfb6589ce"
      },
      "outputs": [],
      "source": [
        "df_nordeste_teste = df_nordeste.groupby(['Nome_UF'])['PIB per capita'].describe()\n",
        "df_nordeste_teste['coef_variacao'] = ((df_nordeste_teste['std']/df_nordeste_teste['mean']) *100).round(2)\n",
        "df_nordeste_teste = df_nordeste_teste.sort_values(by='coef_variacao',ascending=False)\n",
        "df_nordeste_teste"
      ]
    },
    {
      "cell_type": "markdown",
      "metadata": {},
      "source": [
        "**Nota**: o Coeficiente de variação (CV) é a razão entre desvio padrão e média, expressa em %, e serve para comparar a variabilidade relativa, importante para entender desigualdade nesse contexto.\n",
        "\n",
        "**Análise**: Os estados Coeficiente de variação mais alto têm desigualdade maior entre seus municípios. \n",
        "Sendo o top 5: Maranhão, Bahia, Rio Grande do Norte, Pernambuco e Piauí. "
      ]
    },
    {
      "cell_type": "code",
      "execution_count": null,
      "metadata": {},
      "outputs": [],
      "source": [
        "estados_desiguais = ['Maranhão', 'Bahia', 'Rio Grande do Norte']\n",
        "df_desiguais = df_nordeste[df_nordeste['Nome_UF'].isin(estados_desiguais)].sort_values(by='PIB per capita', ascending=False)\n",
        "\n",
        "df_desiguais"
      ]
    },
    {
      "cell_type": "code",
      "execution_count": null,
      "metadata": {},
      "outputs": [],
      "source": [
        "import pandas as pd\n",
        "\n",
        "# Estados mais desiguais\n",
        "estados_desiguais = ['Maranhão', 'Bahia', 'Rio Grande do Norte']\n",
        "\n",
        "# Lista para armazenar os resultados\n",
        "resultados = []\n",
        "\n",
        "for estado in estados_desiguais:\n",
        "    # Filtra só o estado\n",
        "    df_estado = df_nordeste[df_nordeste['Nome_UF'] == estado]\n",
        "    \n",
        "    # Calcula a média do estado\n",
        "    media_estado = df_estado['PIB per capita'].mean()\n",
        "    \n",
        "    # Pega os top 5 municípios por PIB per capita\n",
        "    top_municipios = df_estado.sort_values(by='PIB per capita', ascending=False).head(5)\n",
        "    \n",
        "    # Adiciona ao resultado\n",
        "    for _, row in top_municipios.iterrows():\n",
        "        resultados.append({\n",
        "            'Estado': estado,\n",
        "            'Município': row['Nome_Município'],\n",
        "            'PIB per capita': row['PIB per capita'],\n",
        "            'Média do estado': media_estado,\n",
        "            'Acima da média (%)': round(((row['PIB per capita'] - media_estado) / media_estado) * 100, 2)\n",
        "        })\n",
        "\n",
        "# Converte para DataFrame\n",
        "df_top = pd.DataFrame(resultados)\n",
        "\n",
        "# Mostra o resultado ordenado por estado e PIB\n",
        "df_top = df_top.sort_values(by=['Estado', 'PIB per capita'], ascending=[True, False])\n"
      ]
    },
    {
      "cell_type": "code",
      "execution_count": null,
      "metadata": {},
      "outputs": [],
      "source": [
        "import matplotlib.pyplot as plt\n",
        "import seaborn as sns\n",
        "\n",
        "sns.set_theme(style='whitegrid')\n",
        "plt.figure(figsize=(12, 6))\n",
        "barplot = sns.barplot(\n",
        "    x='PIB per capita', \n",
        "    y='Município', \n",
        "    hue='Estado', \n",
        "    data=df_top, \n",
        "    palette='viridis'\n",
        ")\n",
        "\n",
        "# Adicionar valores nas barras\n",
        "for p in barplot.patches:\n",
        "    valor = p.get_width()\n",
        "    if valor > 0:\n",
        "        if valor > df_top['PIB per capita'].max() * 0.85:\n",
        "            barplot.annotate(\n",
        "                f'{valor:,.2f}',\n",
        "                (valor - (valor * 0.05), p.get_y() + p.get_height() / 2),\n",
        "                ha='right', va='center',\n",
        "                color='white', fontsize=9, weight='bold'\n",
        "            )\n",
        "        else:\n",
        "            barplot.annotate(\n",
        "                f'{valor:,.2f}',\n",
        "                (valor, p.get_y() + p.get_height() / 2),\n",
        "                ha='left', va='center',\n",
        "                color='black', fontsize=9\n",
        "            )\n",
        "\n",
        "# Linha de média para cada estado\n",
        "for estado in estados_desiguais:\n",
        "    media = df_top[df_top['Estado'] == estado]['Média do estado'].iloc[0]\n",
        "    plt.axvline(media, linestyle='--', label=f'Média {estado}', alpha=0.6)\n",
        "\n",
        "plt.title('Top 5 Municípios que Mais Elevam o PIB per capita\\n(Maranhão, Bahia e Rio Grande do Norte)', fontsize=14)\n",
        "plt.xlabel('PIB per capita (R$)', fontsize=12)\n",
        "plt.ylabel('Município', fontsize=12)\n",
        "\n",
        "handles, labels = plt.gca().get_legend_handles_labels()\n",
        "by_label = dict(zip(labels, handles))\n",
        "plt.legend(by_label.values(), by_label.keys(), bbox_to_anchor=(1.05, 1), loc='upper left')\n",
        "\n",
        "plt.tight_layout()\n",
        "plt.show()"
      ]
    },
    {
      "cell_type": "code",
      "execution_count": null,
      "metadata": {
        "colab": {
          "base_uri": "https://localhost:8080/",
          "height": 421
        },
        "id": "VDY6jqN43iCp",
        "outputId": "66f6ff97-ff17-4733-8972-60921a9dba31"
      },
      "outputs": [],
      "source": [
        "df_uf_agrupado = df_nordeste.groupby('Nome_UF').sum(numeric_only=True).reset_index()\n",
        "df_uf_agrupado['PIB per capita (UF)'] = (df_uf_agrupado['PIB (Mil Reais)'] * 1000) /df_uf_agrupado['População (Pessoas)']\n",
        "df_uf_agrupado = df_uf_agrupado.drop(columns=['PIB per capita'])\n",
        "df_uf_agrupado"
      ]
    },
    {
      "cell_type": "code",
      "execution_count": null,
      "metadata": {
        "id": "nwRTxkYB3o5E"
      },
      "outputs": [],
      "source": [
        "df_uf_agrupado['% VA da agropecuária'] = ((df_uf_agrupado['VA da agropecuária (Mil Reais)']/df_uf_agrupado['PIB (Mil Reais)'])*100).round(2)\n",
        "df_uf_agrupado['% VA da indústria'] = ((df_uf_agrupado['VA da indústria (Mil Reais)']/df_uf_agrupado['PIB (Mil Reais)'])*100).round(2)\n",
        "df_uf_agrupado['% VA dos serviços'] = ((df_uf_agrupado['VA dos serviços (Mil Reais)']/df_uf_agrupado['PIB (Mil Reais)'])*100).round(2)\n",
        "df_uf_agrupado['% VA da administração pública'] = ((df_uf_agrupado['VA da administração pública (Mil Reais)']/df_uf_agrupado['PIB (Mil Reais)'])*100).round(2)\n",
        "df_uf_agrupado['% Impostos'] = ((df_uf_agrupado['Impostos (Mil Reais)']/df_uf_agrupado['PIB (Mil Reais)'])*100).round(2)"
      ]
    },
    {
      "cell_type": "code",
      "execution_count": null,
      "metadata": {
        "colab": {
          "base_uri": "https://localhost:8080/",
          "height": 455
        },
        "id": "XyCHprHd4ve4",
        "outputId": "5617d496-f9c4-4801-b3d4-491501be028e"
      },
      "outputs": [],
      "source": [
        "df_nordeste_teste = df_nordeste.groupby(['Nome_Município'])['PIB per capita'].describe()\n",
        "df_nordeste_teste"
      ]
    },
    {
      "cell_type": "markdown",
      "metadata": {
        "id": "qLx2_e7Wp0IX"
      },
      "source": [
        "**Medidas de tendência central e dispersão PIB per capita**"
      ]
    },
    {
      "cell_type": "markdown",
      "metadata": {
        "id": "mhL1T5Xurs_z"
      },
      "source": [
        "# Gráficos"
      ]
    },
    {
      "cell_type": "code",
      "execution_count": null,
      "metadata": {},
      "outputs": [
        {
          "name": "stderr",
          "output_type": "stream",
          "text": [
            "/var/folders/gw/38t0m3710p57vxqjw00sb8q00000gn/T/ipykernel_92906/2942720834.py:11: FutureWarning: \n",
            "\n",
            "Passing `palette` without assigning `hue` is deprecated and will be removed in v0.14.0. Assign the `y` variable to `hue` and set `legend=False` for the same effect.\n",
            "\n",
            "  barplot = sns.barplot(x='coef_variacao', y='Nome_UF', data=df_cv, palette='viridis')\n"
          ]
        },
        {
          "data": {
            "image/png": "[encoded data removed]",
            "text/plain": [
              "<Figure size 1000x600 with 1 Axes>"
            ]
          },
          "metadata": {},
          "output_type": "display_data"
        }
      ],
      "source": [
        "import pandas as pd\n",
        "import matplotlib.pyplot as plt\n",
        "import seaborn as sns\n",
        "\n",
        "df_cv = pd.DataFrame(df_nordeste_teste['coef_variacao'])\n",
        "df_cv = df_cv.reset_index()\n",
        "\n",
        "sns.set_theme(style='whitegrid')\n",
        "\n",
        "plt.figure(figsize=(10,6))\n",
        "barplot = sns.barplot(x='coef_variacao', y='Nome_UF', data=df_cv, palette='viridis')\n",
        "\n",
        "plt.title('Coeficiente de Variação do PIB per capita por Estado do Nordeste', fontsize=14)\n",
        "plt.xlabel('Coeficiente de Variação (%)', fontsize=12)\n",
        "plt.ylabel('Estado', fontsize=12)\n",
        "\n",
        "for index, value in enumerate(df_cv['coef_variacao']):\n",
        "    plt.text(value + 2, index, f'{value:.2f}%', va='center')\n",
        "\n",
        "# Adiciona legenda explicativa embaixo do gráfico\n",
        "plt.figtext(0.5, -0.05, \n",
        "            \"Coeficiente de Variação (CV): mede a variação relativa dos valores em relação à média.\\n\"\n",
        "            \"CV baixo indica PIB per capita mais homogêneo entre municípios de um estado;\\n\"\n",
        "            \"CV alto indica maior desigualdade interna no PIB per capita.\", \n",
        "            wrap=True, horizontalalignment='center', fontsize=10)\n",
        "\n",
        "plt.tight_layout()\n",
        "plt.show()\n"
      ]
    },
    {
      "cell_type": "code",
      "execution_count": null,
      "metadata": {
        "colab": {
          "base_uri": "https://localhost:8080/",
          "height": 262
        },
        "id": "PLkiCSm00xil",
        "outputId": "fcb370e1-323b-4758-cede-c528a6143c93"
      },
      "outputs": [],
      "source": [
        "#estado\n",
        "df_ordenado = df_uf_agrupado.sort_values(by='PIB per capita (UF)', ascending=False)\n",
        "top3 = df_ordenado.head(3)\n",
        "top3"
      ]
    },
    {
      "cell_type": "code",
      "execution_count": null,
      "metadata": {
        "colab": {
          "base_uri": "https://localhost:8080/",
          "height": 245
        },
        "id": "bs2zzopA6Uk_",
        "outputId": "2ec4cf76-df0e-41a2-a7cc-7f58d4bc2e85"
      },
      "outputs": [],
      "source": [
        "bottom3 = df_ordenado.tail(3)\n",
        "bottom3"
      ]
    },
    {
      "cell_type": "code",
      "execution_count": null,
      "metadata": {
        "id": "2PJafeVk-7IO"
      },
      "outputs": [],
      "source": [
        "# Medidas de tendência central\n",
        "media = df_ordenado['PIB per capita (UF)'].mean()\n",
        "mediana = df_ordenado['PIB per capita (UF)'].median()\n",
        "moda = df_ordenado['PIB per capita (UF)'].mode()[0]  # Se existir mais de uma, pega a primeira\n",
        "\n",
        "# Medidas de dispersão\n",
        "desvio_padrao =df_ordenado['PIB per capita (UF)'].std()\n",
        "variancia =df_ordenado['PIB per capita (UF)'].var()\n",
        "amplitude =df_ordenado['PIB per capita (UF)'].max() -df_ordenado['PIB per capita (UF)'].min()\n",
        "q1 =df_ordenado['PIB per capita (UF)'].quantile(0.25)\n",
        "q3 =df_ordenado['PIB per capita (UF)'].quantile(0.75)\n",
        "iqr = q3 - q1"
      ]
    },
    {
      "cell_type": "code",
      "execution_count": null,
      "metadata": {
        "colab": {
          "base_uri": "https://localhost:8080/",
          "height": 678
        },
        "id": "8EjMjYhc1WxG",
        "outputId": "e3828256-ca02-4177-809d-7dd83e1a3974"
      },
      "outputs": [
        {
          "name": "stderr",
          "output_type": "stream",
          "text": [
            "/var/folders/gw/38t0m3710p57vxqjw00sb8q00000gn/T/ipykernel_92906/2042758496.py:7: FutureWarning: \n",
            "\n",
            "Passing `palette` without assigning `hue` is deprecated and will be removed in v0.14.0. Assign the `y` variable to `hue` and set `legend=False` for the same effect.\n",
            "\n",
            "  ax1 = sns.barplot(ax=axes[0], x='PIB per capita (UF)', y='Nome_UF', data=top3, palette='Greens_r')\n",
            "/var/folders/gw/38t0m3710p57vxqjw00sb8q00000gn/T/ipykernel_92906/2042758496.py:16: FutureWarning: \n",
            "\n",
            "Passing `palette` without assigning `hue` is deprecated and will be removed in v0.14.0. Assign the `y` variable to `hue` and set `legend=False` for the same effect.\n",
            "\n",
            "  ax2 = sns.barplot(ax=axes[1], x='PIB per capita (UF)', y='Nome_UF', data=bottom3, palette='Reds')\n"
          ]
        },
        {
          "data": {
            "image/png": "[encoded data removed]",
            "text/plain": [
              "<Figure size 1200x500 with 2 Axes>"
            ]
          },
          "metadata": {},
          "output_type": "display_data"
        }
      ],
      "source": [
        "import matplotlib.pyplot as plt\n",
        "import seaborn as sns\n",
        "\n",
        "fig, axes = plt.subplots(1, 2, figsize=(12,5))\n",
        "\n",
        "# Top 3\n",
        "ax1 = sns.barplot(ax=axes[0], x='PIB per capita (UF)', y='Nome_UF', data=top3, palette='Greens_r')\n",
        "axes[0].set_title('Top 3 PIB per capita agregado por estado')\n",
        "axes[0].set_xlabel('PIB per capita')\n",
        "\n",
        "# Adiciona labels com valores nas barras\n",
        "for container in ax1.containers:\n",
        "    ax1.bar_label(container, fmt='%.0f', padding=3)  # sem casas decimais, com espaçamento\n",
        "\n",
        "# Bottom 3\n",
        "ax2 = sns.barplot(ax=axes[1], x='PIB per capita (UF)', y='Nome_UF', data=bottom3, palette='Reds')\n",
        "axes[1].set_title('Bottom 3 PIB per capita agregado por estado')\n",
        "axes[1].set_xlabel('PIB per capita')\n",
        "\n",
        "for container in ax2.containers:\n",
        "    ax2.bar_label(container, fmt='%.0f', padding=3)\n",
        "\n",
        "plt.tight_layout()\n",
        "plt.show()\n"
      ]
    },
    {
      "cell_type": "code",
      "execution_count": null,
      "metadata": {
        "colab": {
          "base_uri": "https://localhost:8080/",
          "height": 481
        },
        "collapsed": true,
        "id": "WbA9qDN77vOu",
        "outputId": "0ce5b29e-a178-4192-ca61-2b57f5157888"
      },
      "outputs": [],
      "source": [
        "#minicipio\n",
        "df_ordenado_1 = df_nordeste.sort_values(by='PIB per capita', ascending=False)\n",
        "top5 = df_ordenado_1.head(5)\n",
        "top5"
      ]
    },
    {
      "cell_type": "code",
      "execution_count": null,
      "metadata": {
        "colab": {
          "base_uri": "https://localhost:8080/",
          "height": 429
        },
        "collapsed": true,
        "id": "XIPaj1rQ8Otk",
        "outputId": "904ccbdb-85a1-4d97-d976-3af1cd14f46b"
      },
      "outputs": [],
      "source": [
        "bottom5 = df_ordenado_1.tail(5)\n",
        "bottom5"
      ]
    },
    {
      "cell_type": "code",
      "execution_count": null,
      "metadata": {
        "id": "N9Tcnk2_ARlL"
      },
      "outputs": [],
      "source": [
        "filtro_top3 = df_nordeste[df_nordeste['Nome_UF'].isin(['Bahia','Rio Grande do Norte','Pernambuco'])]\n",
        "filtro_ba = df_nordeste[df_nordeste['Nome_UF'].isin(['Bahia'])]\n",
        "filtro_rn = df_nordeste[df_nordeste['Nome_UF'].isin(['Rio Grande do Norte'])]\n",
        "filtro_pe = df_nordeste[df_nordeste['Nome_UF'].isin(['Pernambuco'])]\n"
      ]
    },
    {
      "cell_type": "code",
      "execution_count": null,
      "metadata": {
        "id": "8KgKLRxw_gD-"
      },
      "outputs": [],
      "source": [
        "# Lista dos estados no filtro\n",
        "estados = ['Bahia', 'Rio Grande do Norte', 'Pernambuco']\n",
        "\n",
        "for estado in estados:\n",
        "    dados_estado = df_nordeste[df_nordeste['Nome_UF'] == estado]['PIB per capita']\n",
        "\n",
        "    # Medidas de tendência central\n",
        "    media = dados_estado.mean()\n",
        "    mediana = dados_estado.median()\n",
        "    moda = dados_estado.mode()[0] if not dados_estado.mode().empty else None\n",
        "\n",
        "    # Medidas de dispersão\n",
        "    desvio_padrao = dados_estado.std()\n",
        "    variancia = dados_estado.var()\n",
        "    amplitude = dados_estado.max() - dados_estado.min()\n",
        "    q1 = dados_estado.quantile(0.25)\n",
        "    q3 = dados_estado.quantile(0.75)\n",
        "    coef_variacao = (desvio_padrao / media) * 100 if media != 0 else None\n",
        "    iqr = q3 - q1"
      ]
    },
    {
      "cell_type": "code",
      "execution_count": null,
      "metadata": {
        "colab": {
          "base_uri": "https://localhost:8080/",
          "height": 594
        },
        "id": "fbMokEsdRkcB",
        "outputId": "0d9aa577-7619-4850-f939-9eaf9fc100fc"
      },
      "outputs": [],
      "source": [
        "import matplotlib.pyplot as plt\n",
        "import seaborn as sns\n",
        "\n",
        "plt.figure(figsize=(8,5))\n",
        "sns.set_style(\"whitegrid\")\n",
        "\n",
        "ax = sns.barplot(x='PIB per capita', y='Município_x', data=top5, palette='Greens_r')\n",
        "ax.set_title('Top 5 PIB per capita Municipal')\n",
        "ax.set_xlabel('PIB per capita')\n",
        "ax.set_ylabel('Município')\n",
        "\n",
        "# Adiciona os valores na barra\n",
        "for container in ax.containers:\n",
        "    ax.bar_label(container, fmt='%.0f', padding=3)\n",
        "\n",
        "sns.despine(left=True, bottom=True)\n",
        "plt.tight_layout()\n",
        "plt.show()\n"
      ]
    },
    {
      "cell_type": "code",
      "execution_count": null,
      "metadata": {
        "colab": {
          "base_uri": "https://localhost:8080/",
          "height": 594
        },
        "id": "EhUtAwH0Rng6",
        "outputId": "ce1119f1-3be3-49a7-e3d1-171799c2a91e"
      },
      "outputs": [],
      "source": [
        "import matplotlib.pyplot as plt\n",
        "import seaborn as sns\n",
        "\n",
        "plt.figure(figsize=(8,5))\n",
        "sns.set_style(\"whitegrid\")\n",
        "\n",
        "ax = sns.barplot(x='PIB per capita', y='Município_x', data=bottom5, palette='Reds')\n",
        "ax.set_title('Bottom 5 PIB per capita Municipal')\n",
        "ax.set_xlabel('PIB per capita')\n",
        "ax.set_ylabel('Município')\n",
        "\n",
        "# Adiciona os valores na barra\n",
        "for container in ax.containers:\n",
        "    ax.bar_label(container, fmt='%.2f', padding=3)\n",
        "\n",
        "sns.despine(left=True, bottom=True)\n",
        "plt.tight_layout()\n",
        "plt.show()\n"
      ]
    },
    {
      "cell_type": "code",
      "execution_count": null,
      "metadata": {
        "colab": {
          "base_uri": "https://localhost:8080/",
          "height": 756
        },
        "id": "jrMxPjRBQRYW",
        "outputId": "6fdca8c9-99d8-4ccc-b4b2-772e64dd6a69"
      },
      "outputs": [],
      "source": [
        "df_ordenado_2 = df_nordeste.sort_values(by='PIB (Mil Reais)', ascending=False)\n",
        "df_ordenado_2"
      ]
    },
    {
      "cell_type": "code",
      "execution_count": null,
      "metadata": {
        "colab": {
          "base_uri": "https://localhost:8080/",
          "height": 594
        },
        "id": "uAaSBxmoSD_9",
        "outputId": "4711847b-ce78-47e3-a0f1-e03b42406207"
      },
      "outputs": [],
      "source": [
        "import matplotlib.pyplot as plt\n",
        "import seaborn as sns\n",
        "\n",
        "plt.figure(figsize=(8,5))\n",
        "sns.set_style(\"whitegrid\")  # estilo mais clean, com grid suave\n",
        "\n",
        "# Gráfico Top 5\n",
        "ax = sns.barplot(x='PIB (Mil Reais)', y='Município_x', data=df_ordenado_2.head(5), palette='Greens_r')\n",
        "ax.set_title('Top 5 PIB Municipal')\n",
        "ax.set_xlabel('PIB')\n",
        "ax.set_ylabel('Município')\n",
        "\n",
        "# Remove bordas (spines)\n",
        "sns.despine(left=True, bottom=True)\n",
        "\n",
        "plt.tight_layout()\n",
        "plt.show()\n"
      ]
    },
    {
      "cell_type": "code",
      "execution_count": null,
      "metadata": {
        "colab": {
          "base_uri": "https://localhost:8080/",
          "height": 594
        },
        "id": "1I7M0KJ_SS9j",
        "outputId": "716bc0c3-26a5-4498-d6fb-ae787b47bd61"
      },
      "outputs": [],
      "source": [
        "import matplotlib.pyplot as plt\n",
        "import seaborn as sns\n",
        "\n",
        "plt.figure(figsize=(8,5))\n",
        "sns.set_style(\"whitegrid\")  # estilo mais clean, com grid suave\n",
        "\n",
        "# Gráfico Top 5\n",
        "ax = sns.barplot(x='PIB (Mil Reais)', y='Município_x', data=df_ordenado_2.tail(5), palette='Reds')\n",
        "ax.set_title('Bottom 5 PIB Municipal')\n",
        "ax.set_xlabel('PIB')\n",
        "ax.set_ylabel('Município')\n",
        "\n",
        "# Remove bordas (spines)\n",
        "sns.despine(left=True, bottom=True)\n",
        "\n",
        "plt.tight_layout()\n",
        "plt.show()"
      ]
    },
    {
      "cell_type": "code",
      "execution_count": null,
      "metadata": {
        "colab": {
          "base_uri": "https://localhost:8080/",
          "height": 594
        },
        "id": "VIa8Mk6MRUS9",
        "outputId": "a2b15e6c-7f7a-43e3-da5f-c3be3520fd59"
      },
      "outputs": [],
      "source": [
        "import matplotlib.pyplot as plt\n",
        "import seaborn as sns\n",
        "\n",
        "plt.figure(figsize=(8,5))\n",
        "sns.set_style(\"whitegrid\")  # estilo mais clean, com grid suave\n",
        "\n",
        "# Gráfico Top 5\n",
        "ax = sns.barplot(x='PIB (Mil Reais)', y='Município_x', data=top5, palette='Greens_r')\n",
        "ax.set_title('Top 5 PIB per capita Municipal')\n",
        "ax.set_xlabel('PIB per capita')\n",
        "ax.set_ylabel('Município')\n",
        "\n",
        "# Remove bordas (spines)\n",
        "sns.despine(left=True, bottom=True)\n",
        "\n",
        "plt.tight_layout()\n",
        "plt.show()"
      ]
    },
    {
      "cell_type": "code",
      "execution_count": null,
      "metadata": {},
      "outputs": [],
      "source": [
        "import numpy as np\n",
        "import matplotlib.pyplot as plt\n",
        "\n",
        "estados = df_uf_agrupado['Nome_UF']\n",
        "pib = df_uf_agrupado['PIB (Mil Reais)']\n",
        "impostos = df_uf_agrupado['Impostos (Mil Reais)']\n",
        "agro = df_uf_agrupado['VA da agropecuária (Mil Reais)']\n",
        "industria = df_uf_agrupado['VA da indústria (Mil Reais)']\n",
        "servicos = df_uf_agrupado['VA dos serviços (Mil Reais)']\n",
        "adm_publica = df_uf_agrupado['VA da administração pública (Mil Reais)']\n",
        "\n",
        "total = pib.values\n",
        "\n",
        "agro_pct = (agro / total) * 100\n",
        "industria_pct = (industria / total) * 100\n",
        "servicos_pct = (servicos / total) * 100\n",
        "adm_publica_pct = (adm_publica / total) * 100\n",
        "impostos_pct = (impostos / total) * 100\n",
        "\n",
        "x = np.arange(len(estados))\n",
        "\n",
        "fig, ax = plt.subplots(figsize=(14,7))\n",
        "\n",
        "b1 = ax.bar(x, agro_pct, label='Agropecuária')\n",
        "b2 = ax.bar(x, industria_pct, bottom=agro_pct, label='Indústria')\n",
        "b3 = ax.bar(x, servicos_pct, bottom=agro_pct+industria_pct, label='Serviços')\n",
        "b4 = ax.bar(x, adm_publica_pct, bottom=agro_pct+industria_pct+servicos_pct, label='Administração Pública')\n",
        "b5 = ax.bar(x, impostos_pct, bottom=agro_pct+industria_pct+servicos_pct+adm_publica_pct, label='Impostos')\n",
        "\n",
        "ax.set_xticks(x)\n",
        "ax.set_xticklabels(estados, rotation=45, ha='right')\n",
        "ax.set_ylabel('Percentual (%)')\n",
        "ax.set_title('Participação percentual dos setores no PIB por Estado (Nordeste)')\n",
        "\n",
        "ax.legend(loc='center left', bbox_to_anchor=(1, 0.5))\n",
        "\n",
        "def add_labels(barras):\n",
        "    for barra in barras:\n",
        "        altura = barra.get_height()\n",
        "        if altura > 3:\n",
        "            ax.text(barra.get_x() + barra.get_width()/2, barra.get_y() + altura/2,\n",
        "                    f'{altura:.1f}%', ha='center', va='center', color='white', fontsize=9, fontweight='bold')\n",
        "\n",
        "add_labels(b1)\n",
        "add_labels(b2)\n",
        "add_labels(b3)\n",
        "add_labels(b4)\n",
        "add_labels(b5)\n",
        "\n",
        "plt.tight_layout(rect=[0, 0, 0.85, 1])\n",
        "plt.show()"
      ]
    },
    {
      "cell_type": "code",
      "execution_count": null,
      "metadata": {
        "colab": {
          "base_uri": "https://localhost:8080/",
          "height": 472
        },
        "id": "lIi-WWyzTLF4",
        "outputId": "6ea0dbfd-14e8-4793-dcfa-61d61ae4e165"
      },
      "outputs": [],
      "source": [
        "df_nordeste[\"PIB per capita\"].skew()"
      ]
    },
    {
      "cell_type": "markdown",
      "metadata": {},
      "source": [
        "**Assimetria** é uma medida de \"inclinação\" dos valores em relação a sua média.\n",
        "**assimetria positiva:** indica que a causa está a direita"
      ]
    },
    {
      "cell_type": "code",
      "execution_count": null,
      "metadata": {},
      "outputs": [],
      "source": [
        "import matplotlib.pyplot as plt\n",
        "import numpy as np\n",
        "\n",
        "# Cria o histograma do PIB per capita (municípios do Nordeste) com log\n",
        "plt.figure(figsize=(8,5))\n",
        "plt.hist(np.log10(df_nordeste[\"PIB per capita\"]), bins=60, color=\"skyblue\", edgecolor=\"black\")\n",
        "\n",
        "# Títulos e rótulos ajustados\n",
        "plt.title(\"Distribuição do PIB per capita (log10) - Municípios do Nordeste\", fontsize=14, fontweight=\"bold\")\n",
        "plt.xlabel(\"Log10 do PIB per capita (R$)\", fontsize=12)\n",
        "plt.ylabel(\"Número de municípios\", fontsize=12)\n",
        "\n",
        "# Média e mediana no gráfico\n",
        "media = np.mean(np.log10(df_nordeste[\"PIB per capita\"]))\n",
        "mediana = np.median(np.log10(df_nordeste[\"PIB per capita\"]))\n",
        "plt.axvline(media, color='red', linestyle='--', label=f\"Média: {media:.2f}\")\n",
        "plt.axvline(mediana, color='green', linestyle=':', label=f\"Mediana: {mediana:.2f}\")\n",
        "\n",
        "plt.legend()\n",
        "plt.grid(axis=\"y\", linestyle=\"--\", alpha=0.7)\n",
        "plt.show()\n",
        "\n"
      ]
    },
    {
      "cell_type": "markdown",
      "metadata": {},
      "source": [
        "````\n",
        "Cada barra representa uma faixa de PIB per capita (em escala logarítmica).\n",
        "O eixo Y mostra quantos municípios estão naquela faixa.\n",
        "Ao usar o log10 do PIB per capita, nós transformamos valores que iam de alguns poucos reais por pessoa até centenas de milhares em uma escala mais compacta e interpretável.\n",
        "\n",
        "Interpretação: A distribuição é fortemente assimétrica (cauda longa à direita). O log(10) suaviza essa assimetria, tornando o padrão mais claro.\n",
        "Existem alguns poucos municípios com PIB per capita altíssimo (outliers).\n",
        "A média é puxada para cima por esses outliers, ficando maior que a mediana.\n",
        "````\n"
      ]
    },
    {
      "cell_type": "code",
      "execution_count": null,
      "metadata": {},
      "outputs": [],
      "source": [
        "df_nordeste[\"PIB per capita\"].kurtosis()"
      ]
    },
    {
      "cell_type": "code",
      "execution_count": null,
      "metadata": {},
      "outputs": [],
      "source": [
        "df_nordeste[\"PIB (Mil Reais)\"].kurtosis()"
      ]
    },
    {
      "cell_type": "markdown",
      "metadata": {},
      "source": [
        "**Curtose**: Medida em relação a causa. \n",
        "Curtose elevada indica muitos outliers."
      ]
    },
    {
      "cell_type": "markdown",
      "metadata": {},
      "source": [
        "**Boxplot**: método gráfico para demonstrar localização, dispersão e asssimetria de dados numéricos."
      ]
    },
    {
      "cell_type": "code",
      "execution_count": null,
      "metadata": {},
      "outputs": [],
      "source": [
        "import seaborn as sns\n",
        "\n",
        "sns.set_theme(style=\"whitegrid\")\n",
        "sns.boxplot(x=\"PIB per capita\", data=df_nordeste, palette=\"Set2\", whis=10)\n",
        "\n"
      ]
    },
    {
      "cell_type": "code",
      "execution_count": null,
      "metadata": {},
      "outputs": [],
      "source": [
        "q1=df_nordeste[\"PIB per capita\"].quantile(0.25)\n",
        "q3=df_nordeste[\"PIB per capita\"].quantile(0.75)\n",
        "m= df_nordeste[\"PIB per capita\"].mean()\n",
        "iqr = q3 - q1\n",
        "lower_bound = q1 - 1.5 * iqr\n",
        "upper_bound = q3 + 1.5 * iqr\n"
      ]
    },
    {
      "cell_type": "code",
      "execution_count": null,
      "metadata": {},
      "outputs": [],
      "source": [
        "import seaborn as sns\n",
        "\n",
        "sns.set_theme(style=\"whitegrid\")\n",
        "sns.boxplot(x=\"PIB (Mil Reais)\", data=df_nordeste, palette=\"Set2\", whis=0.5)\n"
      ]
    },
    {
      "cell_type": "code",
      "execution_count": null,
      "metadata": {},
      "outputs": [],
      "source": [
        "import matplotlib.pyplot as plt\n",
        "import seaborn as sns\n",
        "\n",
        "q1 = df_nordeste['PIB (Mil Reais)'].quantile(0.25)\n",
        "q3 = df_nordeste['PIB (Mil Reais)'].quantile(0.75)\n",
        "iqr = q3 - q1\n",
        "limite_inferior = q1 - 1.5 * iqr\n",
        "limite_superior = q3 + 1.5 * iqr\n",
        "outliers = (df_nordeste['PIB (Mil Reais)'] < limite_inferior) | (df_nordeste['PIB (Mil Reais)'] > limite_superior)\n",
        "\n",
        "plt.figure(figsize=(12, 8))\n",
        "sns.scatterplot(data=df_nordeste, x='População (Pessoas)', y='PIB (Mil Reais)', hue=outliers, palette={True: 'orange', False: 'green'}, alpha=0.7)\n",
        "\n",
        "plt.title('Relação entre População e PIB total nos Municípios do Nordeste', fontsize=14)\n",
        "plt.xlabel('População (Pessoas)')\n",
        "plt.ylabel('PIB (Mil Reais)')\n",
        "plt.xscale('log')\n",
        "plt.yscale('log')\n",
        "plt.legend(title='Outlier', labels=['Sim', 'Não'], bbox_to_anchor=(1.02, 1), loc='upper left')\n",
        "plt.tight_layout()\n",
        "plt.show()\n"
      ]
    },
    {
      "cell_type": "code",
      "execution_count": null,
      "metadata": {},
      "outputs": [],
      "source": [
        "import matplotlib.pyplot as plt\n",
        "import seaborn as sns\n",
        "\n",
        "q1 = df_nordeste['PIB per capita'].quantile(0.25)\n",
        "q3 = df_nordeste['PIB per capita'].quantile(0.75)\n",
        "iqr = q3 - q1\n",
        "limite_inferior = q1 - 1.5 * iqr\n",
        "limite_superior = q3 + 1.5 * iqr\n",
        "outliers = (df_nordeste['PIB per capita'] < limite_inferior) | (df_nordeste['PIB per capita'] > limite_superior)\n",
        "\n",
        "plt.figure(figsize=(12, 8))\n",
        "sns.scatterplot( data=df_nordeste, x='População (Pessoas)', y='PIB per capita', hue=outliers, palette={True: 'orange', False: 'green'}, alpha=0.7)\n",
        "\n",
        "plt.title('Relação entre População e PIB per capita nos Municípios do Nordeste', fontsize=14)\n",
        "plt.xlabel('População (Pessoas)')\n",
        "plt.ylabel('PIB per capita')\n",
        "plt.xscale('log')\n",
        "plt.yscale('log')\n",
        "plt.legend(title='Outlier', labels=['Sim', 'Não'], bbox_to_anchor=(1.02, 1), loc='upper left')\n",
        "plt.tight_layout()\n",
        "plt.show()\n"
      ]
    },
    {
      "cell_type": "code",
      "execution_count": null,
      "metadata": {},
      "outputs": [],
      "source": [
        "df_bahia=df_nordeste[df_nordeste['Nome_UF']==\"Bahia\"]"
      ]
    },
    {
      "cell_type": "code",
      "execution_count": null,
      "metadata": {},
      "outputs": [],
      "source": [
        "import matplotlib.pyplot as plt\n",
        "import seaborn as sns\n",
        "\n",
        "q1 = df_bahia['PIB per capita'].quantile(0.25)\n",
        "q3 = df_bahia['PIB per capita'].quantile(0.75)\n",
        "iqr = q3 - q1\n",
        "limite_inferior = q1 - 1.5 * iqr\n",
        "limite_superior = q3 + 1.5 * iqr\n",
        "outliers = (df_bahia['PIB per capita'] < limite_inferior) | (df_bahia['PIB per capita'] > limite_superior)\n",
        "\n",
        "plt.figure(figsize=(12, 8))\n",
        "sns.scatterplot( data=df_bahia, x='População (Pessoas)', y='PIB per capita', hue=outliers, palette={True: 'orange', False: 'green'}, alpha=0.7)\n",
        "\n",
        "plt.title('Relação entre População e PIB per capita nos Municípios do Nordeste', fontsize=14)\n",
        "plt.xlabel('População (Pessoas)')\n",
        "plt.ylabel('PIB per capita')\n",
        "plt.xscale('log')\n",
        "plt.yscale('log')\n",
        "plt.legend(title='Outlier', labels=['Sim', 'Não'], bbox_to_anchor=(1.02, 1), loc='upper left')\n",
        "plt.tight_layout()\n",
        "plt.show()\n"
      ]
    },
    {
      "cell_type": "code",
      "execution_count": null,
      "metadata": {},
      "outputs": [],
      "source": [
        "import numpy as np\n",
        "\n",
        "df_nordeste[\"LOG10 Pib Per Capta\"] = (np.log10(df_nordeste[\"PIB per capita\"]))"
      ]
    },
    {
      "cell_type": "code",
      "execution_count": null,
      "metadata": {},
      "outputs": [],
      "source": [
        "import seaborn as sns\n",
        "\n",
        "sns.set_theme(style=\"whitegrid\")\n",
        "sns.boxplot(x=\"LOG10 Pib Per Capta\", data=df_nordeste, palette=\"Set2\", whis=0.5)\n",
        "\n"
      ]
    },
    {
      "cell_type": "code",
      "execution_count": null,
      "metadata": {},
      "outputs": [],
      "source": [
        "data = df_nordeste[df_nordeste[\"Nome_UF\"] == \"Maranhão\"]\n",
        "\n",
        "data[\"LOG10 Pib Per Capita\"] = (np.log10(data[\"PIB per capita\"]))\n",
        "\n",
        "data"
      ]
    },
    {
      "cell_type": "code",
      "execution_count": null,
      "metadata": {},
      "outputs": [],
      "source": [
        "\n",
        "import seaborn as sns\n",
        "\n",
        "sns.set_theme(style=\"darkgrid\")\n",
        "sns.boxplot(x=\"LOG10 Pib Per Capita\", data=data, palette=\"Set2\", whis=0.5)\n",
        "\n",
        "\n"
      ]
    },
    {
      "cell_type": "code",
      "execution_count": null,
      "metadata": {},
      "outputs": [],
      "source": [
        "data = df_nordeste[df_nordeste[\"Nome_UF\"] == \"Ceará\"]\n",
        "\n",
        "data[\"LOG10 Pib Per Capita\"] = (np.log10(data[\"PIB per capita\"]))\n",
        "\n",
        "data"
      ]
    },
    {
      "cell_type": "code",
      "execution_count": null,
      "metadata": {},
      "outputs": [],
      "source": [
        "\n",
        "import seaborn as sns\n",
        "\n",
        "sns.set_theme(style=\"ticks\")\n",
        "sns.boxplot(x=\"LOG10 Pib Per Capita\", data=data, palette=\"Set2\", whis=0.5)\n",
        "\n"
      ]
    }
  ],
  "metadata": {
    "colab": {
      "provenance": []
    },
    "kernelspec": {
      "display_name": "Python 3",
      "name": "python3"
    },
    "language_info": {
      "codemirror_mode": {
        "name": "ipython",
        "version": 3
      },
      "file_extension": ".py",
      "mimetype": "text/x-python",
      "name": "python",
      "nbconvert_exporter": "python",
      "pygments_lexer": "ipython3",
      "version": "3.12.0"
    }
  },
  "nbformat": 4,
  "nbformat_minor": 0
}
